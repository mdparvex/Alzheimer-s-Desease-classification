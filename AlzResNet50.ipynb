{
  "nbformat": 4,
  "nbformat_minor": 0,
  "metadata": {
    "colab": {
      "name": "AlzResNet50.ipynb",
      "provenance": [],
      "collapsed_sections": [],
      "include_colab_link": true
    },
    "kernelspec": {
      "name": "python3",
      "display_name": "Python 3"
    },
    "language_info": {
      "name": "python"
    },
    "accelerator": "GPU"
  },
  "cells": [
    {
      "cell_type": "markdown",
      "metadata": {
        "id": "view-in-github",
        "colab_type": "text"
      },
      "source": [
        "<a href=\"https://colab.research.google.com/github/mdparvex/Alzheimer-s-Desease-classification/blob/main/AlzResNet50.ipynb\" target=\"_parent\"><img src=\"https://colab.research.google.com/assets/colab-badge.svg\" alt=\"Open In Colab\"/></a>"
      ]
    },
    {
      "cell_type": "code",
      "execution_count": null,
      "metadata": {
        "id": "B4XO841q6xSZ"
      },
      "outputs": [],
      "source": [
        "import matplotlib.pyplot as plt\n",
        "import seaborn as sns\n",
        "\n",
        "import keras\n",
        "from keras.models import Sequential\n",
        "from keras.layers import Dense, Conv2D , MaxPool2D , Flatten , Dropout,BatchNormalization \n",
        "from keras.preprocessing.image import ImageDataGenerator\n",
        "#from keras.optimizers import Adam\n",
        "from tensorflow.keras.optimizers import Adam\n",
        "\n",
        "from sklearn.metrics import classification_report,confusion_matrix\n",
        "import tensorflow as tf\n",
        "import pandas as pd\n",
        "\n",
        "from mlxtend.plotting import plot_confusion_matrix\n",
        "from sklearn.metrics import confusion_matrix\n",
        "\n",
        "#import splitfolders\n",
        "import os\n",
        "import cv2\n",
        "import numpy as np\n",
        "import random"
      ]
    },
    {
      "cell_type": "code",
      "source": [
        "labels = ['MildDemented', 'ModerateDemented', 'NonDemented', 'VeryMildDemented']\n",
        "img_size = 128\n",
        "def get_data(data_dir):\n",
        "    data = []\n",
        "    for label in labels: \n",
        "        path = os.path.join(data_dir, label)\n",
        "        class_num = labels.index(label)\n",
        "        for img in os.listdir(path):\n",
        "            try:\n",
        "                img_arr = cv2.imread(os.path.join(path, img))[...,::-1] #convert BGR to RGB format\n",
        "                resized_arr = cv2.resize(img_arr, (img_size, img_size)) # Reshaping images to preferred size\n",
        "                data.append([resized_arr, class_num])\n",
        "            except Exception as e:\n",
        "                print(e)\n",
        "    return np.array(data)"
      ],
      "metadata": {
        "id": "kaIL7NLV87Jg"
      },
      "execution_count": null,
      "outputs": []
    },
    {
      "cell_type": "code",
      "source": [
        "from google.colab import drive\n",
        "drive.mount('/content/drive')"
      ],
      "metadata": {
        "colab": {
          "base_uri": "https://localhost:8080/"
        },
        "id": "XWlWfjxB9C4n",
        "outputId": "6134deb5-654d-483b-e1ca-60ade69f19e1"
      },
      "execution_count": null,
      "outputs": [
        {
          "output_type": "stream",
          "name": "stdout",
          "text": [
            "Drive already mounted at /content/drive; to attempt to forcibly remount, call drive.mount(\"/content/drive\", force_remount=True).\n"
          ]
        }
      ]
    },
    {
      "cell_type": "code",
      "source": [
        "train = get_data('/content/drive/MyDrive/Colab Notebook/train_test_val/train')\n",
        "val = get_data('/content/drive/MyDrive/Colab Notebook/train_test_val/val')\n",
        "test = get_data('/content/drive/MyDrive/Colab Notebook/train_test_val/test')"
      ],
      "metadata": {
        "colab": {
          "base_uri": "https://localhost:8080/"
        },
        "id": "gygoNNBZ9HBw",
        "outputId": "fd5c37f5-6085-428e-c1d5-9a85e8ef03fe"
      },
      "execution_count": null,
      "outputs": [
        {
          "output_type": "stream",
          "name": "stderr",
          "text": [
            "/usr/local/lib/python3.7/dist-packages/ipykernel_launcher.py:15: VisibleDeprecationWarning: Creating an ndarray from ragged nested sequences (which is a list-or-tuple of lists-or-tuples-or ndarrays with different lengths or shapes) is deprecated. If you meant to do this, you must specify 'dtype=object' when creating the ndarray.\n",
            "  from ipykernel import kernelapp as app\n"
          ]
        }
      ]
    },
    {
      "cell_type": "code",
      "source": [
        "x_train = []\n",
        "y_train = []\n",
        "x_val = []\n",
        "y_val = []\n",
        "\n",
        "x_test=[]\n",
        "y_test=[]\n",
        "\n",
        "for feature, label in train:\n",
        "    x_train.append(feature)\n",
        "    y_train.append(label)\n",
        "\n",
        "for feature, label in val:\n",
        "    x_val.append(feature)\n",
        "    y_val.append(label)\n",
        "\n",
        "for feature, label in test:\n",
        "  x_test.append(feature)\n",
        "  y_test.append(label)\n",
        "\n",
        "# Normalize the data\n",
        "x_train = np.array(x_train) / 255\n",
        "x_val = np.array(x_val) / 255\n",
        "x_test = np.array(x_test)/255\n",
        "\n",
        "\n",
        "x_train.reshape(-1, img_size, img_size, 1)\n",
        "y_train = np.array(y_train)\n",
        "\n",
        "x_val.reshape(-1, img_size, img_size, 1)\n",
        "y_val = np.array(y_val)\n",
        "\n",
        "x_test.reshape(-1, img_size, img_size, 1)\n",
        "y_test = np.array(y_test)"
      ],
      "metadata": {
        "id": "1bTW2N1w-rrm"
      },
      "execution_count": null,
      "outputs": []
    },
    {
      "cell_type": "code",
      "source": [
        "x_train.shape"
      ],
      "metadata": {
        "colab": {
          "base_uri": "https://localhost:8080/"
        },
        "id": "bvPNhmsX-tvW",
        "outputId": "94ed798c-d830-470c-dd57-f1781d5f448d"
      },
      "execution_count": null,
      "outputs": [
        {
          "output_type": "execute_result",
          "data": {
            "text/plain": [
              "(5119, 128, 128, 3)"
            ]
          },
          "metadata": {},
          "execution_count": 6
        }
      ]
    },
    {
      "cell_type": "code",
      "source": [
        "x_test.shape"
      ],
      "metadata": {
        "colab": {
          "base_uri": "https://localhost:8080/"
        },
        "id": "rkrxHxXZ-xs2",
        "outputId": "1a7e32c1-c732-4d11-ba8b-a4c9c77a824e"
      },
      "execution_count": null,
      "outputs": [
        {
          "output_type": "execute_result",
          "data": {
            "text/plain": [
              "(642, 128, 128, 3)"
            ]
          },
          "metadata": {},
          "execution_count": 7
        }
      ]
    },
    {
      "cell_type": "code",
      "source": [
        "datagen = ImageDataGenerator(\n",
        "        featurewise_center=False,  # set input mean to 0 over the dataset\n",
        "        samplewise_center=False,  # set each sample mean to 0\n",
        "        featurewise_std_normalization=False,  # divide inputs by std of the dataset\n",
        "        samplewise_std_normalization=False,  # divide each input by its std\n",
        "        zca_whitening=False,  # apply ZCA whitening\n",
        "        rotation_range = 30,  # randomly rotate images in the range (degrees, 0 to 180)\n",
        "        zoom_range = 0.3, # Randomly zoom image \n",
        "        width_shift_range=0.1,  # randomly shift images horizontally (fraction of total width)\n",
        "        height_shift_range=0.1,  # randomly shift images vertically (fraction of total height)\n",
        "        horizontal_flip = True,\n",
        "        fill_mode='nearest',  # randomly flip images\n",
        "        vertical_flip=False)  # randomly flip images\n",
        "\n",
        "\n",
        "datagen.fit(x_train)"
      ],
      "metadata": {
        "id": "hjksTz46-2-2"
      },
      "execution_count": null,
      "outputs": []
    },
    {
      "cell_type": "code",
      "source": [
        "from tensorflow.keras.applications.resnet50 import ResNet50"
      ],
      "metadata": {
        "id": "Yq8E2tHq_HfW"
      },
      "execution_count": null,
      "outputs": []
    },
    {
      "cell_type": "code",
      "source": [
        "base_model = ResNet50(input_shape=(128,128,3), \n",
        "                   include_top=False,\n",
        "                   weights=\"imagenet\")"
      ],
      "metadata": {
        "id": "Bl0okHh2_Jc1"
      },
      "execution_count": null,
      "outputs": []
    },
    {
      "cell_type": "code",
      "source": [
        "for layer in base_model.layers:\n",
        "    layer.trainable=False"
      ],
      "metadata": {
        "id": "T_8NlzxA_OBl"
      },
      "execution_count": null,
      "outputs": []
    },
    {
      "cell_type": "code",
      "source": [
        "from tensorflow.keras import layers \n",
        "from tensorflow.keras.layers import InputLayer, BatchNormalization, Dropout, Flatten, Dense, Activation, MaxPool2D, Conv2D"
      ],
      "metadata": {
        "id": "IcpzP5AT_Q7l"
      },
      "execution_count": null,
      "outputs": []
    },
    {
      "cell_type": "code",
      "source": [
        "model=Sequential()\n",
        "model.add(base_model)\n",
        "model.add(Flatten())\n",
        "model.add(Dense(512,kernel_initializer='he_uniform'))\n",
        "model.add(BatchNormalization())\n",
        "\n",
        "model.add(Activation('relu'))\n",
        "model.add(Dropout(0.2))\n",
        "model.add(Dense(256,kernel_initializer='he_uniform'))\n",
        "model.add(BatchNormalization())\n",
        "\n",
        "model.add(Activation('relu'))\n",
        "model.add(Dropout(0.2))\n",
        "model.add(Dense(128,kernel_initializer='he_uniform'))\n",
        "model.add(BatchNormalization())\n",
        "\n",
        "model.add(Activation('relu'))\n",
        "model.add(Dropout(0.2))\n",
        "model.add(Dense(64,kernel_initializer='he_uniform'))\n",
        "model.add(BatchNormalization())\n",
        "\n",
        "model.add(Activation('relu'))\n",
        "model.add(Dropout(0.2))\n",
        "model.add(Dense(32,kernel_initializer='he_uniform'))\n",
        "model.add(BatchNormalization())\n",
        "\n",
        "model.add(Activation('relu'))\n",
        "model.add(Dropout(0.2))\n",
        "model.add(Dense(4,activation='softmax'))"
      ],
      "metadata": {
        "id": "lLg93RE3_UJN"
      },
      "execution_count": null,
      "outputs": []
    },
    {
      "cell_type": "code",
      "source": [
        "opt = Adam(learning_rate=0.00001)\n",
        "model.compile(optimizer = opt , loss = tf.keras.losses.SparseCategoricalCrossentropy(from_logits=False) , metrics = ['accuracy'])\n",
        "\n",
        "history = model.fit(x_train,y_train,epochs = 200,batch_size=64 , validation_data = (x_val, y_val))"
      ],
      "metadata": {
        "colab": {
          "base_uri": "https://localhost:8080/"
        },
        "id": "O-aj5hp1_gCV",
        "outputId": "0142be96-4a74-43be-990e-991ed0bcc53e"
      },
      "execution_count": null,
      "outputs": [
        {
          "output_type": "stream",
          "name": "stdout",
          "text": [
            "Epoch 1/200\n",
            "80/80 [==============================] - 14s 97ms/step - loss: 1.5963 - accuracy: 0.2745 - val_loss: 1.3585 - val_accuracy: 0.2739\n",
            "Epoch 2/200\n",
            "80/80 [==============================] - 6s 76ms/step - loss: 1.5172 - accuracy: 0.3010 - val_loss: 1.2945 - val_accuracy: 0.4992\n",
            "Epoch 3/200\n",
            "80/80 [==============================] - 6s 76ms/step - loss: 1.4666 - accuracy: 0.3247 - val_loss: 1.2499 - val_accuracy: 0.4992\n",
            "Epoch 4/200\n",
            "80/80 [==============================] - 6s 76ms/step - loss: 1.4319 - accuracy: 0.3507 - val_loss: 1.2020 - val_accuracy: 0.5258\n",
            "Epoch 5/200\n",
            "80/80 [==============================] - 6s 76ms/step - loss: 1.4023 - accuracy: 0.3667 - val_loss: 1.1813 - val_accuracy: 0.5243\n",
            "Epoch 6/200\n",
            "80/80 [==============================] - 6s 77ms/step - loss: 1.3959 - accuracy: 0.3635 - val_loss: 1.1216 - val_accuracy: 0.5493\n",
            "Epoch 7/200\n",
            "80/80 [==============================] - 6s 77ms/step - loss: 1.3642 - accuracy: 0.3858 - val_loss: 1.1367 - val_accuracy: 0.5227\n",
            "Epoch 8/200\n",
            "80/80 [==============================] - 6s 77ms/step - loss: 1.3307 - accuracy: 0.3971 - val_loss: 1.1422 - val_accuracy: 0.4992\n",
            "Epoch 9/200\n",
            "80/80 [==============================] - 6s 77ms/step - loss: 1.3307 - accuracy: 0.4138 - val_loss: 1.0980 - val_accuracy: 0.5352\n",
            "Epoch 10/200\n",
            "80/80 [==============================] - 6s 77ms/step - loss: 1.2880 - accuracy: 0.4235 - val_loss: 1.0825 - val_accuracy: 0.5290\n",
            "Epoch 11/200\n",
            "80/80 [==============================] - 7s 86ms/step - loss: 1.2923 - accuracy: 0.4257 - val_loss: 1.0652 - val_accuracy: 0.5180\n",
            "Epoch 12/200\n",
            "80/80 [==============================] - 7s 87ms/step - loss: 1.2761 - accuracy: 0.4391 - val_loss: 1.0198 - val_accuracy: 0.5462\n",
            "Epoch 13/200\n",
            "80/80 [==============================] - 6s 79ms/step - loss: 1.2512 - accuracy: 0.4442 - val_loss: 1.0549 - val_accuracy: 0.5164\n",
            "Epoch 14/200\n",
            "80/80 [==============================] - 6s 77ms/step - loss: 1.2469 - accuracy: 0.4573 - val_loss: 1.0727 - val_accuracy: 0.5493\n",
            "Epoch 15/200\n",
            "80/80 [==============================] - 6s 78ms/step - loss: 1.2307 - accuracy: 0.4565 - val_loss: 1.0155 - val_accuracy: 0.5806\n",
            "Epoch 16/200\n",
            "80/80 [==============================] - 6s 78ms/step - loss: 1.2175 - accuracy: 0.4610 - val_loss: 1.0103 - val_accuracy: 0.5759\n",
            "Epoch 17/200\n",
            "80/80 [==============================] - 6s 78ms/step - loss: 1.1958 - accuracy: 0.4794 - val_loss: 0.9854 - val_accuracy: 0.5759\n",
            "Epoch 18/200\n",
            "80/80 [==============================] - 6s 78ms/step - loss: 1.1880 - accuracy: 0.4784 - val_loss: 0.9771 - val_accuracy: 0.5915\n",
            "Epoch 19/200\n",
            "80/80 [==============================] - 6s 78ms/step - loss: 1.1751 - accuracy: 0.4810 - val_loss: 0.9467 - val_accuracy: 0.5962\n",
            "Epoch 20/200\n",
            "80/80 [==============================] - 6s 78ms/step - loss: 1.1498 - accuracy: 0.5054 - val_loss: 0.9667 - val_accuracy: 0.5775\n",
            "Epoch 21/200\n",
            "80/80 [==============================] - 6s 78ms/step - loss: 1.1344 - accuracy: 0.5052 - val_loss: 0.9791 - val_accuracy: 0.5837\n",
            "Epoch 22/200\n",
            "80/80 [==============================] - 6s 78ms/step - loss: 1.1246 - accuracy: 0.5140 - val_loss: 0.9697 - val_accuracy: 0.6135\n",
            "Epoch 23/200\n",
            "80/80 [==============================] - 7s 89ms/step - loss: 1.1249 - accuracy: 0.5165 - val_loss: 0.9252 - val_accuracy: 0.6369\n",
            "Epoch 24/200\n",
            "80/80 [==============================] - 6s 79ms/step - loss: 1.1167 - accuracy: 0.5128 - val_loss: 0.9345 - val_accuracy: 0.6369\n",
            "Epoch 25/200\n",
            "80/80 [==============================] - 6s 78ms/step - loss: 1.0853 - accuracy: 0.5380 - val_loss: 0.9602 - val_accuracy: 0.6025\n",
            "Epoch 26/200\n",
            "80/80 [==============================] - 7s 86ms/step - loss: 1.0819 - accuracy: 0.5343 - val_loss: 0.9213 - val_accuracy: 0.6260\n",
            "Epoch 27/200\n",
            "80/80 [==============================] - 6s 78ms/step - loss: 1.0785 - accuracy: 0.5317 - val_loss: 0.9124 - val_accuracy: 0.6354\n",
            "Epoch 28/200\n",
            "80/80 [==============================] - 6s 80ms/step - loss: 1.0662 - accuracy: 0.5390 - val_loss: 0.9243 - val_accuracy: 0.6182\n",
            "Epoch 29/200\n",
            "80/80 [==============================] - 6s 78ms/step - loss: 1.0689 - accuracy: 0.5419 - val_loss: 0.9089 - val_accuracy: 0.6338\n",
            "Epoch 30/200\n",
            "80/80 [==============================] - 7s 87ms/step - loss: 1.0387 - accuracy: 0.5628 - val_loss: 0.9485 - val_accuracy: 0.6009\n",
            "Epoch 31/200\n",
            "80/80 [==============================] - 6s 78ms/step - loss: 1.0229 - accuracy: 0.5616 - val_loss: 0.9099 - val_accuracy: 0.6432\n",
            "Epoch 32/200\n",
            "80/80 [==============================] - 6s 79ms/step - loss: 1.0150 - accuracy: 0.5667 - val_loss: 0.9289 - val_accuracy: 0.6228\n",
            "Epoch 33/200\n",
            "80/80 [==============================] - 6s 78ms/step - loss: 1.0208 - accuracy: 0.5669 - val_loss: 0.8752 - val_accuracy: 0.6479\n",
            "Epoch 34/200\n",
            "80/80 [==============================] - 6s 79ms/step - loss: 0.9862 - accuracy: 0.5816 - val_loss: 0.8901 - val_accuracy: 0.6541\n",
            "Epoch 35/200\n",
            "80/80 [==============================] - 6s 79ms/step - loss: 0.9879 - accuracy: 0.5905 - val_loss: 0.8597 - val_accuracy: 0.6729\n",
            "Epoch 36/200\n",
            "80/80 [==============================] - 6s 79ms/step - loss: 0.9856 - accuracy: 0.5890 - val_loss: 0.8911 - val_accuracy: 0.6604\n",
            "Epoch 37/200\n",
            "80/80 [==============================] - 6s 80ms/step - loss: 0.9702 - accuracy: 0.5984 - val_loss: 0.8300 - val_accuracy: 0.7089\n",
            "Epoch 38/200\n",
            "80/80 [==============================] - 6s 80ms/step - loss: 0.9619 - accuracy: 0.5931 - val_loss: 0.8121 - val_accuracy: 0.6948\n",
            "Epoch 39/200\n",
            "80/80 [==============================] - 6s 80ms/step - loss: 0.9587 - accuracy: 0.5917 - val_loss: 0.8797 - val_accuracy: 0.6698\n",
            "Epoch 40/200\n",
            "80/80 [==============================] - 6s 80ms/step - loss: 0.9434 - accuracy: 0.6038 - val_loss: 0.8292 - val_accuracy: 0.6604\n",
            "Epoch 41/200\n",
            "80/80 [==============================] - 6s 80ms/step - loss: 0.9259 - accuracy: 0.6200 - val_loss: 0.8788 - val_accuracy: 0.6401\n",
            "Epoch 42/200\n",
            "80/80 [==============================] - 6s 80ms/step - loss: 0.9207 - accuracy: 0.6185 - val_loss: 0.8537 - val_accuracy: 0.6667\n",
            "Epoch 43/200\n",
            "80/80 [==============================] - 6s 80ms/step - loss: 0.9062 - accuracy: 0.6265 - val_loss: 0.8762 - val_accuracy: 0.6495\n",
            "Epoch 44/200\n",
            "80/80 [==============================] - 6s 80ms/step - loss: 0.8901 - accuracy: 0.6378 - val_loss: 0.8422 - val_accuracy: 0.6714\n",
            "Epoch 45/200\n",
            "80/80 [==============================] - 6s 80ms/step - loss: 0.8961 - accuracy: 0.6335 - val_loss: 0.8351 - val_accuracy: 0.6854\n",
            "Epoch 46/200\n",
            "80/80 [==============================] - 6s 80ms/step - loss: 0.8877 - accuracy: 0.6366 - val_loss: 0.8226 - val_accuracy: 0.6729\n",
            "Epoch 47/200\n",
            "80/80 [==============================] - 6s 80ms/step - loss: 0.8848 - accuracy: 0.6349 - val_loss: 0.7805 - val_accuracy: 0.6886\n",
            "Epoch 48/200\n",
            "80/80 [==============================] - 6s 80ms/step - loss: 0.8670 - accuracy: 0.6466 - val_loss: 0.7821 - val_accuracy: 0.6964\n",
            "Epoch 49/200\n",
            "80/80 [==============================] - 6s 80ms/step - loss: 0.8508 - accuracy: 0.6493 - val_loss: 0.8019 - val_accuracy: 0.6948\n",
            "Epoch 50/200\n",
            "80/80 [==============================] - 7s 88ms/step - loss: 0.8579 - accuracy: 0.6476 - val_loss: 0.7936 - val_accuracy: 0.6745\n",
            "Epoch 51/200\n",
            "80/80 [==============================] - 7s 88ms/step - loss: 0.8506 - accuracy: 0.6570 - val_loss: 0.8111 - val_accuracy: 0.6980\n",
            "Epoch 52/200\n",
            "80/80 [==============================] - 6s 80ms/step - loss: 0.8304 - accuracy: 0.6576 - val_loss: 0.7649 - val_accuracy: 0.7387\n",
            "Epoch 53/200\n",
            "80/80 [==============================] - 6s 80ms/step - loss: 0.8291 - accuracy: 0.6669 - val_loss: 0.7823 - val_accuracy: 0.6964\n",
            "Epoch 54/200\n",
            "80/80 [==============================] - 6s 81ms/step - loss: 0.8131 - accuracy: 0.6796 - val_loss: 0.7525 - val_accuracy: 0.7449\n",
            "Epoch 55/200\n",
            "80/80 [==============================] - 6s 81ms/step - loss: 0.8252 - accuracy: 0.6677 - val_loss: 0.7353 - val_accuracy: 0.7590\n",
            "Epoch 56/200\n",
            "80/80 [==============================] - 6s 81ms/step - loss: 0.7960 - accuracy: 0.6863 - val_loss: 0.7153 - val_accuracy: 0.7308\n",
            "Epoch 57/200\n",
            "80/80 [==============================] - 6s 80ms/step - loss: 0.7934 - accuracy: 0.6812 - val_loss: 0.6882 - val_accuracy: 0.7465\n",
            "Epoch 58/200\n",
            "80/80 [==============================] - 6s 81ms/step - loss: 0.7873 - accuracy: 0.6855 - val_loss: 0.7051 - val_accuracy: 0.7731\n",
            "Epoch 59/200\n",
            "80/80 [==============================] - 6s 80ms/step - loss: 0.7605 - accuracy: 0.7023 - val_loss: 0.6921 - val_accuracy: 0.7574\n",
            "Epoch 60/200\n",
            "80/80 [==============================] - 6s 81ms/step - loss: 0.7688 - accuracy: 0.6913 - val_loss: 0.7006 - val_accuracy: 0.7371\n",
            "Epoch 61/200\n",
            "80/80 [==============================] - 6s 81ms/step - loss: 0.7587 - accuracy: 0.7054 - val_loss: 0.7341 - val_accuracy: 0.7371\n",
            "Epoch 62/200\n",
            "80/80 [==============================] - 6s 81ms/step - loss: 0.7429 - accuracy: 0.7085 - val_loss: 0.6951 - val_accuracy: 0.7653\n",
            "Epoch 63/200\n",
            "80/80 [==============================] - 6s 80ms/step - loss: 0.7304 - accuracy: 0.7144 - val_loss: 0.6973 - val_accuracy: 0.7684\n",
            "Epoch 64/200\n",
            "80/80 [==============================] - 6s 80ms/step - loss: 0.7284 - accuracy: 0.7224 - val_loss: 0.7085 - val_accuracy: 0.7637\n",
            "Epoch 65/200\n",
            "80/80 [==============================] - 6s 81ms/step - loss: 0.7142 - accuracy: 0.7316 - val_loss: 0.6735 - val_accuracy: 0.7778\n",
            "Epoch 66/200\n",
            "80/80 [==============================] - 6s 81ms/step - loss: 0.7236 - accuracy: 0.7154 - val_loss: 0.7260 - val_accuracy: 0.7387\n",
            "Epoch 67/200\n",
            "80/80 [==============================] - 6s 81ms/step - loss: 0.7201 - accuracy: 0.7208 - val_loss: 0.6372 - val_accuracy: 0.7637\n",
            "Epoch 68/200\n",
            "80/80 [==============================] - 6s 81ms/step - loss: 0.7011 - accuracy: 0.7365 - val_loss: 0.6605 - val_accuracy: 0.7684\n",
            "Epoch 69/200\n",
            "80/80 [==============================] - 6s 81ms/step - loss: 0.7071 - accuracy: 0.7216 - val_loss: 0.6419 - val_accuracy: 0.7809\n",
            "Epoch 70/200\n",
            "80/80 [==============================] - 6s 81ms/step - loss: 0.6882 - accuracy: 0.7349 - val_loss: 0.6697 - val_accuracy: 0.7543\n",
            "Epoch 71/200\n",
            "80/80 [==============================] - 6s 81ms/step - loss: 0.6787 - accuracy: 0.7464 - val_loss: 0.6585 - val_accuracy: 0.7731\n",
            "Epoch 72/200\n",
            "80/80 [==============================] - 6s 81ms/step - loss: 0.6695 - accuracy: 0.7476 - val_loss: 0.6462 - val_accuracy: 0.7746\n",
            "Epoch 73/200\n",
            "80/80 [==============================] - 6s 81ms/step - loss: 0.6670 - accuracy: 0.7458 - val_loss: 0.6003 - val_accuracy: 0.8044\n",
            "Epoch 74/200\n",
            "80/80 [==============================] - 6s 81ms/step - loss: 0.6463 - accuracy: 0.7535 - val_loss: 0.6382 - val_accuracy: 0.7715\n",
            "Epoch 75/200\n",
            "80/80 [==============================] - 6s 81ms/step - loss: 0.6421 - accuracy: 0.7654 - val_loss: 0.6519 - val_accuracy: 0.7715\n",
            "Epoch 76/200\n",
            "80/80 [==============================] - 6s 81ms/step - loss: 0.6411 - accuracy: 0.7625 - val_loss: 0.6156 - val_accuracy: 0.7856\n",
            "Epoch 77/200\n",
            "80/80 [==============================] - 6s 81ms/step - loss: 0.6381 - accuracy: 0.7666 - val_loss: 0.6180 - val_accuracy: 0.7809\n",
            "Epoch 78/200\n",
            "80/80 [==============================] - 6s 81ms/step - loss: 0.6360 - accuracy: 0.7707 - val_loss: 0.5864 - val_accuracy: 0.7934\n",
            "Epoch 79/200\n",
            "80/80 [==============================] - 6s 81ms/step - loss: 0.6270 - accuracy: 0.7705 - val_loss: 0.6531 - val_accuracy: 0.7496\n",
            "Epoch 80/200\n",
            "80/80 [==============================] - 6s 81ms/step - loss: 0.6109 - accuracy: 0.7787 - val_loss: 0.5943 - val_accuracy: 0.8091\n",
            "Epoch 81/200\n",
            "80/80 [==============================] - 6s 81ms/step - loss: 0.6029 - accuracy: 0.7877 - val_loss: 0.6159 - val_accuracy: 0.7950\n",
            "Epoch 82/200\n",
            "80/80 [==============================] - 6s 81ms/step - loss: 0.6117 - accuracy: 0.7769 - val_loss: 0.6205 - val_accuracy: 0.8091\n",
            "Epoch 83/200\n",
            "80/80 [==============================] - 6s 81ms/step - loss: 0.5850 - accuracy: 0.7871 - val_loss: 0.5824 - val_accuracy: 0.7997\n",
            "Epoch 84/200\n",
            "80/80 [==============================] - 7s 89ms/step - loss: 0.6002 - accuracy: 0.7861 - val_loss: 0.6452 - val_accuracy: 0.7825\n",
            "Epoch 85/200\n",
            "80/80 [==============================] - 6s 81ms/step - loss: 0.5849 - accuracy: 0.7916 - val_loss: 0.7843 - val_accuracy: 0.6870\n",
            "Epoch 86/200\n",
            "80/80 [==============================] - 6s 81ms/step - loss: 0.5657 - accuracy: 0.8070 - val_loss: 0.5743 - val_accuracy: 0.7997\n",
            "Epoch 87/200\n",
            "80/80 [==============================] - 6s 81ms/step - loss: 0.5786 - accuracy: 0.7902 - val_loss: 0.5626 - val_accuracy: 0.8106\n",
            "Epoch 88/200\n",
            "80/80 [==============================] - 7s 89ms/step - loss: 0.5766 - accuracy: 0.7943 - val_loss: 0.5657 - val_accuracy: 0.8185\n",
            "Epoch 89/200\n",
            "80/80 [==============================] - 6s 81ms/step - loss: 0.5644 - accuracy: 0.7959 - val_loss: 0.5296 - val_accuracy: 0.8216\n",
            "Epoch 90/200\n",
            "80/80 [==============================] - 6s 81ms/step - loss: 0.5577 - accuracy: 0.8054 - val_loss: 0.5970 - val_accuracy: 0.7903\n",
            "Epoch 91/200\n",
            "80/80 [==============================] - 6s 81ms/step - loss: 0.5553 - accuracy: 0.8086 - val_loss: 0.5997 - val_accuracy: 0.7606\n",
            "Epoch 92/200\n",
            "80/80 [==============================] - 7s 89ms/step - loss: 0.5443 - accuracy: 0.8097 - val_loss: 0.5191 - val_accuracy: 0.8310\n",
            "Epoch 93/200\n",
            "80/80 [==============================] - 6s 81ms/step - loss: 0.5329 - accuracy: 0.8166 - val_loss: 0.5483 - val_accuracy: 0.8326\n",
            "Epoch 94/200\n",
            "80/80 [==============================] - 6s 80ms/step - loss: 0.5338 - accuracy: 0.8130 - val_loss: 0.5349 - val_accuracy: 0.8310\n",
            "Epoch 95/200\n",
            "80/80 [==============================] - 6s 81ms/step - loss: 0.5277 - accuracy: 0.8154 - val_loss: 0.5279 - val_accuracy: 0.8466\n",
            "Epoch 96/200\n",
            "80/80 [==============================] - 6s 81ms/step - loss: 0.5095 - accuracy: 0.8172 - val_loss: 0.5250 - val_accuracy: 0.8372\n",
            "Epoch 97/200\n",
            "80/80 [==============================] - 6s 81ms/step - loss: 0.5126 - accuracy: 0.8185 - val_loss: 0.5327 - val_accuracy: 0.8404\n",
            "Epoch 98/200\n",
            "80/80 [==============================] - 6s 81ms/step - loss: 0.5056 - accuracy: 0.8277 - val_loss: 0.4769 - val_accuracy: 0.8560\n",
            "Epoch 99/200\n",
            "80/80 [==============================] - 7s 81ms/step - loss: 0.4960 - accuracy: 0.8254 - val_loss: 0.5027 - val_accuracy: 0.8435\n",
            "Epoch 100/200\n",
            "80/80 [==============================] - 6s 81ms/step - loss: 0.4807 - accuracy: 0.8365 - val_loss: 0.5582 - val_accuracy: 0.7997\n",
            "Epoch 101/200\n",
            "80/80 [==============================] - 7s 81ms/step - loss: 0.4767 - accuracy: 0.8363 - val_loss: 0.5691 - val_accuracy: 0.7762\n",
            "Epoch 102/200\n",
            "80/80 [==============================] - 6s 81ms/step - loss: 0.4732 - accuracy: 0.8437 - val_loss: 0.5006 - val_accuracy: 0.8310\n",
            "Epoch 103/200\n",
            "80/80 [==============================] - 6s 81ms/step - loss: 0.4598 - accuracy: 0.8515 - val_loss: 0.5677 - val_accuracy: 0.7809\n",
            "Epoch 104/200\n",
            "80/80 [==============================] - 6s 81ms/step - loss: 0.4767 - accuracy: 0.8392 - val_loss: 0.4689 - val_accuracy: 0.8466\n",
            "Epoch 105/200\n",
            "80/80 [==============================] - 6s 81ms/step - loss: 0.4525 - accuracy: 0.8529 - val_loss: 0.5245 - val_accuracy: 0.7887\n",
            "Epoch 106/200\n",
            "80/80 [==============================] - 7s 89ms/step - loss: 0.4544 - accuracy: 0.8529 - val_loss: 0.4758 - val_accuracy: 0.8592\n",
            "Epoch 107/200\n",
            "80/80 [==============================] - 6s 81ms/step - loss: 0.4460 - accuracy: 0.8566 - val_loss: 0.5211 - val_accuracy: 0.8404\n",
            "Epoch 108/200\n",
            "80/80 [==============================] - 6s 81ms/step - loss: 0.4521 - accuracy: 0.8502 - val_loss: 0.4447 - val_accuracy: 0.8592\n",
            "Epoch 109/200\n",
            "80/80 [==============================] - 6s 81ms/step - loss: 0.4422 - accuracy: 0.8523 - val_loss: 0.4646 - val_accuracy: 0.8372\n",
            "Epoch 110/200\n",
            "80/80 [==============================] - 6s 81ms/step - loss: 0.4366 - accuracy: 0.8539 - val_loss: 0.5878 - val_accuracy: 0.7543\n",
            "Epoch 111/200\n",
            "80/80 [==============================] - 6s 81ms/step - loss: 0.4149 - accuracy: 0.8644 - val_loss: 0.4121 - val_accuracy: 0.8717\n",
            "Epoch 112/200\n",
            "80/80 [==============================] - 6s 81ms/step - loss: 0.4136 - accuracy: 0.8730 - val_loss: 0.4265 - val_accuracy: 0.8654\n",
            "Epoch 113/200\n",
            "80/80 [==============================] - 6s 81ms/step - loss: 0.4156 - accuracy: 0.8642 - val_loss: 0.4635 - val_accuracy: 0.8372\n",
            "Epoch 114/200\n",
            "80/80 [==============================] - 6s 81ms/step - loss: 0.4198 - accuracy: 0.8631 - val_loss: 0.4349 - val_accuracy: 0.8498\n",
            "Epoch 115/200\n",
            "80/80 [==============================] - 6s 81ms/step - loss: 0.4080 - accuracy: 0.8681 - val_loss: 0.4116 - val_accuracy: 0.8592\n",
            "Epoch 116/200\n",
            "80/80 [==============================] - 6s 81ms/step - loss: 0.3989 - accuracy: 0.8758 - val_loss: 0.4162 - val_accuracy: 0.8873\n",
            "Epoch 117/200\n",
            "80/80 [==============================] - 7s 89ms/step - loss: 0.3965 - accuracy: 0.8771 - val_loss: 0.4524 - val_accuracy: 0.8435\n",
            "Epoch 118/200\n",
            "80/80 [==============================] - 7s 89ms/step - loss: 0.3968 - accuracy: 0.8689 - val_loss: 0.4011 - val_accuracy: 0.8732\n",
            "Epoch 119/200\n",
            "80/80 [==============================] - 6s 81ms/step - loss: 0.3895 - accuracy: 0.8779 - val_loss: 0.5095 - val_accuracy: 0.8028\n",
            "Epoch 120/200\n",
            "80/80 [==============================] - 6s 81ms/step - loss: 0.3849 - accuracy: 0.8789 - val_loss: 0.5072 - val_accuracy: 0.8122\n",
            "Epoch 121/200\n",
            "80/80 [==============================] - 6s 81ms/step - loss: 0.3711 - accuracy: 0.8890 - val_loss: 0.3997 - val_accuracy: 0.8764\n",
            "Epoch 122/200\n",
            "80/80 [==============================] - 6s 81ms/step - loss: 0.3660 - accuracy: 0.8871 - val_loss: 0.4380 - val_accuracy: 0.8513\n",
            "Epoch 123/200\n",
            "80/80 [==============================] - 7s 81ms/step - loss: 0.3678 - accuracy: 0.8851 - val_loss: 0.4161 - val_accuracy: 0.8576\n",
            "Epoch 124/200\n",
            "80/80 [==============================] - 6s 81ms/step - loss: 0.3528 - accuracy: 0.8933 - val_loss: 0.4553 - val_accuracy: 0.8341\n",
            "Epoch 125/200\n",
            "80/80 [==============================] - 6s 81ms/step - loss: 0.3609 - accuracy: 0.8924 - val_loss: 0.3667 - val_accuracy: 0.8779\n",
            "Epoch 126/200\n",
            "80/80 [==============================] - 6s 81ms/step - loss: 0.3504 - accuracy: 0.8904 - val_loss: 0.4023 - val_accuracy: 0.8842\n",
            "Epoch 127/200\n",
            "80/80 [==============================] - 6s 81ms/step - loss: 0.3534 - accuracy: 0.8924 - val_loss: 0.3978 - val_accuracy: 0.8873\n",
            "Epoch 128/200\n",
            "80/80 [==============================] - 6s 81ms/step - loss: 0.3459 - accuracy: 0.8953 - val_loss: 0.4400 - val_accuracy: 0.8607\n",
            "Epoch 129/200\n",
            "80/80 [==============================] - 6s 81ms/step - loss: 0.3354 - accuracy: 0.8998 - val_loss: 0.4330 - val_accuracy: 0.8545\n",
            "Epoch 130/200\n",
            "80/80 [==============================] - 6s 81ms/step - loss: 0.3429 - accuracy: 0.8947 - val_loss: 0.4773 - val_accuracy: 0.8122\n",
            "Epoch 131/200\n",
            "80/80 [==============================] - 6s 81ms/step - loss: 0.3318 - accuracy: 0.9006 - val_loss: 0.3690 - val_accuracy: 0.8826\n",
            "Epoch 132/200\n",
            "80/80 [==============================] - 6s 81ms/step - loss: 0.3321 - accuracy: 0.9017 - val_loss: 0.4355 - val_accuracy: 0.8388\n",
            "Epoch 133/200\n",
            "80/80 [==============================] - 6s 81ms/step - loss: 0.3129 - accuracy: 0.9103 - val_loss: 0.3633 - val_accuracy: 0.8842\n",
            "Epoch 134/200\n",
            "80/80 [==============================] - 6s 81ms/step - loss: 0.3220 - accuracy: 0.9045 - val_loss: 0.3480 - val_accuracy: 0.8795\n",
            "Epoch 135/200\n",
            "80/80 [==============================] - 6s 81ms/step - loss: 0.3114 - accuracy: 0.9109 - val_loss: 0.4400 - val_accuracy: 0.8482\n",
            "Epoch 136/200\n",
            "80/80 [==============================] - 6s 81ms/step - loss: 0.3026 - accuracy: 0.9160 - val_loss: 0.3718 - val_accuracy: 0.8638\n",
            "Epoch 137/200\n",
            "80/80 [==============================] - 6s 81ms/step - loss: 0.3005 - accuracy: 0.9158 - val_loss: 0.3206 - val_accuracy: 0.9218\n",
            "Epoch 138/200\n",
            "80/80 [==============================] - 6s 81ms/step - loss: 0.3050 - accuracy: 0.9105 - val_loss: 0.3582 - val_accuracy: 0.9030\n",
            "Epoch 139/200\n",
            "80/80 [==============================] - 6s 81ms/step - loss: 0.2915 - accuracy: 0.9197 - val_loss: 0.3687 - val_accuracy: 0.8873\n",
            "Epoch 140/200\n",
            "80/80 [==============================] - 6s 81ms/step - loss: 0.2878 - accuracy: 0.9197 - val_loss: 0.3288 - val_accuracy: 0.8858\n",
            "Epoch 141/200\n",
            "80/80 [==============================] - 6s 81ms/step - loss: 0.2911 - accuracy: 0.9180 - val_loss: 0.4479 - val_accuracy: 0.8372\n",
            "Epoch 142/200\n",
            "80/80 [==============================] - 6s 81ms/step - loss: 0.2860 - accuracy: 0.9211 - val_loss: 0.3105 - val_accuracy: 0.9061\n",
            "Epoch 143/200\n",
            "80/80 [==============================] - 7s 89ms/step - loss: 0.2822 - accuracy: 0.9201 - val_loss: 0.3685 - val_accuracy: 0.8670\n",
            "Epoch 144/200\n",
            "80/80 [==============================] - 6s 81ms/step - loss: 0.2681 - accuracy: 0.9248 - val_loss: 0.3385 - val_accuracy: 0.8873\n",
            "Epoch 145/200\n",
            "80/80 [==============================] - 6s 81ms/step - loss: 0.2797 - accuracy: 0.9248 - val_loss: 0.5023 - val_accuracy: 0.8059\n",
            "Epoch 146/200\n",
            "80/80 [==============================] - 6s 81ms/step - loss: 0.2777 - accuracy: 0.9209 - val_loss: 0.3054 - val_accuracy: 0.9139\n",
            "Epoch 147/200\n",
            "80/80 [==============================] - 6s 81ms/step - loss: 0.2730 - accuracy: 0.9219 - val_loss: 0.3118 - val_accuracy: 0.8967\n",
            "Epoch 148/200\n",
            "80/80 [==============================] - 7s 82ms/step - loss: 0.2667 - accuracy: 0.9252 - val_loss: 0.3288 - val_accuracy: 0.8889\n",
            "Epoch 149/200\n",
            "80/80 [==============================] - 6s 81ms/step - loss: 0.2628 - accuracy: 0.9265 - val_loss: 0.3246 - val_accuracy: 0.8858\n",
            "Epoch 150/200\n",
            "80/80 [==============================] - 6s 81ms/step - loss: 0.2552 - accuracy: 0.9264 - val_loss: 0.2973 - val_accuracy: 0.9218\n",
            "Epoch 151/200\n",
            "80/80 [==============================] - 6s 81ms/step - loss: 0.2564 - accuracy: 0.9322 - val_loss: 0.3599 - val_accuracy: 0.8842\n",
            "Epoch 152/200\n",
            "80/80 [==============================] - 6s 81ms/step - loss: 0.2555 - accuracy: 0.9310 - val_loss: 0.7430 - val_accuracy: 0.6995\n",
            "Epoch 153/200\n",
            "80/80 [==============================] - 6s 81ms/step - loss: 0.2486 - accuracy: 0.9332 - val_loss: 0.2708 - val_accuracy: 0.9186\n",
            "Epoch 154/200\n",
            "80/80 [==============================] - 7s 89ms/step - loss: 0.2513 - accuracy: 0.9283 - val_loss: 0.3259 - val_accuracy: 0.8951\n",
            "Epoch 155/200\n",
            "80/80 [==============================] - 6s 81ms/step - loss: 0.2463 - accuracy: 0.9303 - val_loss: 0.5856 - val_accuracy: 0.7746\n",
            "Epoch 156/200\n",
            "80/80 [==============================] - 6s 81ms/step - loss: 0.2377 - accuracy: 0.9373 - val_loss: 0.4089 - val_accuracy: 0.8419\n",
            "Epoch 157/200\n",
            "80/80 [==============================] - 6s 81ms/step - loss: 0.2286 - accuracy: 0.9420 - val_loss: 0.3441 - val_accuracy: 0.8732\n",
            "Epoch 158/200\n",
            "80/80 [==============================] - 6s 81ms/step - loss: 0.2301 - accuracy: 0.9394 - val_loss: 0.4639 - val_accuracy: 0.8169\n",
            "Epoch 159/200\n",
            "80/80 [==============================] - 6s 81ms/step - loss: 0.2211 - accuracy: 0.9439 - val_loss: 0.3157 - val_accuracy: 0.8936\n",
            "Epoch 160/200\n",
            "80/80 [==============================] - 6s 81ms/step - loss: 0.2305 - accuracy: 0.9355 - val_loss: 0.7074 - val_accuracy: 0.7261\n",
            "Epoch 161/200\n",
            "80/80 [==============================] - 6s 81ms/step - loss: 0.2203 - accuracy: 0.9430 - val_loss: 0.4197 - val_accuracy: 0.8404\n",
            "Epoch 162/200\n",
            "80/80 [==============================] - 6s 81ms/step - loss: 0.2169 - accuracy: 0.9414 - val_loss: 0.2568 - val_accuracy: 0.9171\n",
            "Epoch 163/200\n",
            "80/80 [==============================] - 6s 81ms/step - loss: 0.2182 - accuracy: 0.9410 - val_loss: 0.2988 - val_accuracy: 0.8967\n",
            "Epoch 164/200\n",
            "80/80 [==============================] - 6s 81ms/step - loss: 0.2169 - accuracy: 0.9418 - val_loss: 0.3124 - val_accuracy: 0.8905\n",
            "Epoch 165/200\n",
            "80/80 [==============================] - 7s 81ms/step - loss: 0.2112 - accuracy: 0.9449 - val_loss: 0.3297 - val_accuracy: 0.8983\n",
            "Epoch 166/200\n",
            "80/80 [==============================] - 6s 81ms/step - loss: 0.1957 - accuracy: 0.9537 - val_loss: 0.3486 - val_accuracy: 0.8732\n",
            "Epoch 167/200\n",
            "80/80 [==============================] - 6s 81ms/step - loss: 0.2095 - accuracy: 0.9445 - val_loss: 0.3036 - val_accuracy: 0.8998\n",
            "Epoch 168/200\n",
            "80/80 [==============================] - 6s 81ms/step - loss: 0.1981 - accuracy: 0.9514 - val_loss: 0.2510 - val_accuracy: 0.9327\n",
            "Epoch 169/200\n",
            "80/80 [==============================] - 6s 81ms/step - loss: 0.1974 - accuracy: 0.9502 - val_loss: 0.3785 - val_accuracy: 0.8498\n",
            "Epoch 170/200\n",
            "80/80 [==============================] - 7s 82ms/step - loss: 0.2047 - accuracy: 0.9473 - val_loss: 0.2165 - val_accuracy: 0.9390\n",
            "Epoch 171/200\n",
            "80/80 [==============================] - 6s 81ms/step - loss: 0.1928 - accuracy: 0.9484 - val_loss: 0.2293 - val_accuracy: 0.9358\n",
            "Epoch 172/200\n",
            "80/80 [==============================] - 7s 81ms/step - loss: 0.1927 - accuracy: 0.9531 - val_loss: 0.3274 - val_accuracy: 0.8826\n",
            "Epoch 173/200\n",
            "80/80 [==============================] - 6s 81ms/step - loss: 0.1893 - accuracy: 0.9519 - val_loss: 0.2509 - val_accuracy: 0.9171\n",
            "Epoch 174/200\n",
            "80/80 [==============================] - 6s 81ms/step - loss: 0.1891 - accuracy: 0.9514 - val_loss: 0.2561 - val_accuracy: 0.9202\n",
            "Epoch 175/200\n",
            "80/80 [==============================] - 6s 81ms/step - loss: 0.1806 - accuracy: 0.9525 - val_loss: 0.3681 - val_accuracy: 0.8670\n",
            "Epoch 176/200\n",
            "80/80 [==============================] - 6s 81ms/step - loss: 0.1794 - accuracy: 0.9531 - val_loss: 0.3418 - val_accuracy: 0.8717\n",
            "Epoch 177/200\n",
            "80/80 [==============================] - 6s 81ms/step - loss: 0.1760 - accuracy: 0.9549 - val_loss: 0.6428 - val_accuracy: 0.7731\n",
            "Epoch 178/200\n",
            "80/80 [==============================] - 6s 81ms/step - loss: 0.1785 - accuracy: 0.9539 - val_loss: 0.2389 - val_accuracy: 0.9249\n",
            "Epoch 179/200\n",
            "80/80 [==============================] - 6s 81ms/step - loss: 0.1738 - accuracy: 0.9553 - val_loss: 0.2693 - val_accuracy: 0.9077\n",
            "Epoch 180/200\n",
            "80/80 [==============================] - 7s 81ms/step - loss: 0.1772 - accuracy: 0.9539 - val_loss: 0.2882 - val_accuracy: 0.8998\n",
            "Epoch 181/200\n",
            "80/80 [==============================] - 7s 81ms/step - loss: 0.1726 - accuracy: 0.9562 - val_loss: 0.5197 - val_accuracy: 0.8279\n",
            "Epoch 182/200\n",
            "80/80 [==============================] - 7s 81ms/step - loss: 0.1746 - accuracy: 0.9551 - val_loss: 0.2923 - val_accuracy: 0.8967\n",
            "Epoch 183/200\n",
            "80/80 [==============================] - 6s 81ms/step - loss: 0.1697 - accuracy: 0.9582 - val_loss: 0.2433 - val_accuracy: 0.9233\n",
            "Epoch 184/200\n",
            "80/80 [==============================] - 7s 82ms/step - loss: 0.1651 - accuracy: 0.9613 - val_loss: 0.2130 - val_accuracy: 0.9358\n",
            "Epoch 185/200\n",
            "80/80 [==============================] - 7s 81ms/step - loss: 0.1566 - accuracy: 0.9607 - val_loss: 0.3227 - val_accuracy: 0.8889\n",
            "Epoch 186/200\n",
            "80/80 [==============================] - 7s 81ms/step - loss: 0.1628 - accuracy: 0.9609 - val_loss: 0.6247 - val_accuracy: 0.7809\n",
            "Epoch 187/200\n",
            "80/80 [==============================] - 7s 81ms/step - loss: 0.1584 - accuracy: 0.9619 - val_loss: 0.2339 - val_accuracy: 0.9249\n",
            "Epoch 188/200\n",
            "80/80 [==============================] - 7s 81ms/step - loss: 0.1545 - accuracy: 0.9639 - val_loss: 0.2531 - val_accuracy: 0.9155\n",
            "Epoch 189/200\n",
            "80/80 [==============================] - 6s 81ms/step - loss: 0.1554 - accuracy: 0.9605 - val_loss: 0.2248 - val_accuracy: 0.9374\n",
            "Epoch 190/200\n",
            "80/80 [==============================] - 6s 81ms/step - loss: 0.1560 - accuracy: 0.9617 - val_loss: 0.3791 - val_accuracy: 0.8545\n",
            "Epoch 191/200\n",
            "80/80 [==============================] - 7s 82ms/step - loss: 0.1620 - accuracy: 0.9572 - val_loss: 0.4229 - val_accuracy: 0.8326\n",
            "Epoch 192/200\n",
            "80/80 [==============================] - 6s 81ms/step - loss: 0.1493 - accuracy: 0.9639 - val_loss: 0.2710 - val_accuracy: 0.9061\n",
            "Epoch 193/200\n",
            "80/80 [==============================] - 7s 82ms/step - loss: 0.1517 - accuracy: 0.9590 - val_loss: 0.2889 - val_accuracy: 0.8920\n",
            "Epoch 194/200\n",
            "80/80 [==============================] - 7s 81ms/step - loss: 0.1501 - accuracy: 0.9625 - val_loss: 0.2985 - val_accuracy: 0.9139\n",
            "Epoch 195/200\n",
            "80/80 [==============================] - 6s 81ms/step - loss: 0.1455 - accuracy: 0.9635 - val_loss: 0.2239 - val_accuracy: 0.9280\n",
            "Epoch 196/200\n",
            "80/80 [==============================] - 7s 82ms/step - loss: 0.1434 - accuracy: 0.9652 - val_loss: 0.2496 - val_accuracy: 0.9218\n",
            "Epoch 197/200\n",
            "80/80 [==============================] - 6s 81ms/step - loss: 0.1413 - accuracy: 0.9697 - val_loss: 0.2187 - val_accuracy: 0.9358\n",
            "Epoch 198/200\n",
            "80/80 [==============================] - 6s 81ms/step - loss: 0.1359 - accuracy: 0.9668 - val_loss: 0.2148 - val_accuracy: 0.9343\n",
            "Epoch 199/200\n",
            "80/80 [==============================] - 6s 81ms/step - loss: 0.1337 - accuracy: 0.9701 - val_loss: 0.3469 - val_accuracy: 0.8748\n",
            "Epoch 200/200\n",
            "80/80 [==============================] - 7s 82ms/step - loss: 0.1363 - accuracy: 0.9658 - val_loss: 0.2032 - val_accuracy: 0.9358\n"
          ]
        }
      ]
    },
    {
      "cell_type": "code",
      "source": [
        "scores = model.evaluate(x_test,y_test , verbose=1)"
      ],
      "metadata": {
        "colab": {
          "base_uri": "https://localhost:8080/"
        },
        "id": "z-4SC1gLCpf6",
        "outputId": "32d8f6a9-035e-4877-c55c-11ddb7540147"
      },
      "execution_count": null,
      "outputs": [
        {
          "output_type": "stream",
          "name": "stdout",
          "text": [
            "21/21 [==============================] - 2s 55ms/step - loss: 0.1746 - accuracy: 0.9408\n"
          ]
        }
      ]
    },
    {
      "cell_type": "code",
      "source": [
        "accuracy= scores[1]*100\n",
        "loss=scores[0]\n",
        "print('Accuracy: ', accuracy)\n",
        "print('Loss: ',  loss)"
      ],
      "metadata": {
        "colab": {
          "base_uri": "https://localhost:8080/"
        },
        "id": "NBw2QJADC9P0",
        "outputId": "105f0d63-45be-4166-cf35-61ad0d78afc6"
      },
      "execution_count": null,
      "outputs": [
        {
          "output_type": "stream",
          "name": "stdout",
          "text": [
            "Accuracy:  94.0809965133667\n",
            "Loss:  0.17461642622947693\n"
          ]
        }
      ]
    },
    {
      "cell_type": "code",
      "source": [
        "acc = history.history['accuracy']\n",
        "val_acc = history.history['val_accuracy']\n",
        "loss = history.history['loss']\n",
        "val_loss = history.history['val_loss']\n",
        "\n",
        "epochs_range = range(200)\n",
        "\n",
        "plt.figure(figsize=(15, 15))\n",
        "plt.subplot(2, 2, 1)\n",
        "plt.plot(epochs_range, acc, label='Training Accuracy')\n",
        "plt.plot(epochs_range, val_acc, label='Validation Accuracy')\n",
        "plt.legend(loc='lower right')\n",
        "plt.xlabel('Epochs')\n",
        "plt.ylabel('Accuracy')\n",
        "plt.grid(False)\n",
        "plt.title('Training and Validation Accuracy')\n",
        "\n",
        "epochs_range = range(200)\n",
        "\n",
        "plt.figure(figsize=(15, 15))\n",
        "plt.subplot(2, 2, 1)\n",
        "\n",
        "plt.plot(epochs_range, loss, label='Training Loss')\n",
        "plt.plot(epochs_range, val_loss, label='Validation Loss')\n",
        "plt.legend(loc='upper right')\n",
        "plt.title('Training and Validation Loss')\n",
        "plt.xlabel('Epochs')\n",
        "plt.ylabel('Loss')\n",
        "plt.grid(False)\n",
        "plt.show()"
      ],
      "metadata": {
        "colab": {
          "base_uri": "https://localhost:8080/",
          "height": 881
        },
        "id": "hVBP-jcMDIRh",
        "outputId": "7188b3cd-b765-4883-c641-53e6ff81bc5a"
      },
      "execution_count": null,
      "outputs": [
        {
          "output_type": "display_data",
          "data": {
            "image/png": "[encoded data removed]",
            "text/plain": [
              "<Figure size 1080x1080 with 1 Axes>"
            ]
          },
          "metadata": {
            "needs_background": "light"
          }
        },
        {
          "output_type": "display_data",
          "data": {
            "image/png": "[encoded data removed]",
            "text/plain": [
              "<Figure size 1080x1080 with 1 Axes>"
            ]
          },
          "metadata": {
            "needs_background": "light"
          }
        }
      ]
    }
  ]
}