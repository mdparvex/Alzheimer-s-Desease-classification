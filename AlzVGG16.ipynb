{
  "nbformat": 4,
  "nbformat_minor": 0,
  "metadata": {
    "colab": {
      "name": "AlzVGG16.ipynb",
      "provenance": [],
      "collapsed_sections": [],
      "include_colab_link": true
    },
    "kernelspec": {
      "name": "python3",
      "display_name": "Python 3"
    },
    "language_info": {
      "name": "python"
    },
    "accelerator": "GPU"
  },
  "cells": [
    {
      "cell_type": "markdown",
      "metadata": {
        "id": "view-in-github",
        "colab_type": "text"
      },
      "source": [
        "<a href=\"https://colab.research.google.com/github/mdparvex/Alzheimer-s-Desease-classification/blob/main/AlzVGG16.ipynb\" target=\"_parent\"><img src=\"https://colab.research.google.com/assets/colab-badge.svg\" alt=\"Open In Colab\"/></a>"
      ]
    },
    {
      "cell_type": "code",
      "execution_count": null,
      "metadata": {
        "id": "B4XO841q6xSZ"
      },
      "outputs": [],
      "source": [
        "import matplotlib.pyplot as plt\n",
        "import seaborn as sns\n",
        "\n",
        "import keras\n",
        "from keras.models import Sequential\n",
        "from keras.layers import Dense, Conv2D , MaxPool2D , Flatten , Dropout,BatchNormalization \n",
        "from keras.preprocessing.image import ImageDataGenerator\n",
        "#from keras.optimizers import Adam\n",
        "from tensorflow.keras.optimizers import Adam\n",
        "\n",
        "from sklearn.metrics import classification_report,confusion_matrix\n",
        "import tensorflow as tf\n",
        "import pandas as pd\n",
        "\n",
        "from mlxtend.plotting import plot_confusion_matrix\n",
        "from sklearn.metrics import confusion_matrix\n",
        "\n",
        "#import splitfolders\n",
        "import os\n",
        "import cv2\n",
        "import numpy as np\n",
        "import random"
      ]
    },
    {
      "cell_type": "code",
      "source": [
        "labels = ['MildDemented', 'ModerateDemented', 'NonDemented', 'VeryMildDemented']\n",
        "img_size = 128\n",
        "def get_data(data_dir):\n",
        "    data = []\n",
        "    for label in labels: \n",
        "        path = os.path.join(data_dir, label)\n",
        "        class_num = labels.index(label)\n",
        "        for img in os.listdir(path):\n",
        "            try:\n",
        "                img_arr = cv2.imread(os.path.join(path, img))[...,::-1] #convert BGR to RGB format\n",
        "                resized_arr = cv2.resize(img_arr, (img_size, img_size)) # Reshaping images to preferred size\n",
        "                data.append([resized_arr, class_num])\n",
        "            except Exception as e:\n",
        "                print(e)\n",
        "    return np.array(data)"
      ],
      "metadata": {
        "id": "kaIL7NLV87Jg"
      },
      "execution_count": null,
      "outputs": []
    },
    {
      "cell_type": "code",
      "source": [
        "from google.colab import drive\n",
        "drive.mount('/content/drive')"
      ],
      "metadata": {
        "colab": {
          "base_uri": "https://localhost:8080/"
        },
        "id": "XWlWfjxB9C4n",
        "outputId": "2a98fc48-f439-4ac0-c0a7-9a2479c15e14"
      },
      "execution_count": null,
      "outputs": [
        {
          "output_type": "stream",
          "name": "stdout",
          "text": [
            "Mounted at /content/drive\n"
          ]
        }
      ]
    },
    {
      "cell_type": "code",
      "source": [
        "train = get_data('/content/drive/MyDrive/Colab Notebooks/CSE499ANew/train_test_val/train')\n",
        "val = get_data('/content/drive/MyDrive/Colab Notebooks/CSE499ANew/train_test_val/val')\n",
        "test = get_data('/content/drive/MyDrive/Colab Notebooks/CSE499ANew/train_test_val/test')"
      ],
      "metadata": {
        "colab": {
          "base_uri": "https://localhost:8080/"
        },
        "id": "gygoNNBZ9HBw",
        "outputId": "e606a546-1a0d-4f2d-f444-98e8703cbb31"
      },
      "execution_count": null,
      "outputs": [
        {
          "output_type": "stream",
          "name": "stderr",
          "text": [
            "/usr/local/lib/python3.7/dist-packages/ipykernel_launcher.py:15: VisibleDeprecationWarning: Creating an ndarray from ragged nested sequences (which is a list-or-tuple of lists-or-tuples-or ndarrays with different lengths or shapes) is deprecated. If you meant to do this, you must specify 'dtype=object' when creating the ndarray.\n",
            "  from ipykernel import kernelapp as app\n"
          ]
        }
      ]
    },
    {
      "cell_type": "code",
      "source": [
        "x_train = []\n",
        "y_train = []\n",
        "x_val = []\n",
        "y_val = []\n",
        "\n",
        "x_test=[]\n",
        "y_test=[]\n",
        "\n",
        "for feature, label in train:\n",
        "    x_train.append(feature)\n",
        "    y_train.append(label)\n",
        "\n",
        "for feature, label in val:\n",
        "    x_val.append(feature)\n",
        "    y_val.append(label)\n",
        "\n",
        "for feature, label in test:\n",
        "  x_test.append(feature)\n",
        "  y_test.append(label)\n",
        "\n",
        "# Normalize the data\n",
        "x_train = np.array(x_train) / 255\n",
        "x_val = np.array(x_val) / 255\n",
        "x_test = np.array(x_test)/255\n",
        "\n",
        "\n",
        "x_train.reshape(-1, img_size, img_size, 1)\n",
        "y_train = np.array(y_train)\n",
        "\n",
        "x_val.reshape(-1, img_size, img_size, 1)\n",
        "y_val = np.array(y_val)\n",
        "\n",
        "x_test.reshape(-1, img_size, img_size, 1)\n",
        "y_test = np.array(y_test)"
      ],
      "metadata": {
        "id": "1bTW2N1w-rrm"
      },
      "execution_count": null,
      "outputs": []
    },
    {
      "cell_type": "code",
      "source": [
        "x_train.shape"
      ],
      "metadata": {
        "colab": {
          "base_uri": "https://localhost:8080/"
        },
        "id": "bvPNhmsX-tvW",
        "outputId": "d12d135a-e79c-4df1-b2e4-02aebf4a8e85"
      },
      "execution_count": null,
      "outputs": [
        {
          "output_type": "execute_result",
          "data": {
            "text/plain": [
              "(5119, 128, 128, 3)"
            ]
          },
          "metadata": {},
          "execution_count": 6
        }
      ]
    },
    {
      "cell_type": "code",
      "source": [
        "x_test.shape"
      ],
      "metadata": {
        "colab": {
          "base_uri": "https://localhost:8080/"
        },
        "id": "rkrxHxXZ-xs2",
        "outputId": "c8458db1-9033-4a02-98b4-f87e67e79d87"
      },
      "execution_count": null,
      "outputs": [
        {
          "output_type": "execute_result",
          "data": {
            "text/plain": [
              "(642, 128, 128, 3)"
            ]
          },
          "metadata": {},
          "execution_count": 7
        }
      ]
    },
    {
      "cell_type": "code",
      "source": [
        "datagen = ImageDataGenerator(\n",
        "        featurewise_center=False,  # set input mean to 0 over the dataset\n",
        "        samplewise_center=False,  # set each sample mean to 0\n",
        "        featurewise_std_normalization=False,  # divide inputs by std of the dataset\n",
        "        samplewise_std_normalization=False,  # divide each input by its std\n",
        "        zca_whitening=False,  # apply ZCA whitening\n",
        "        rotation_range = 30,  # randomly rotate images in the range (degrees, 0 to 180)\n",
        "        zoom_range = 0.3, # Randomly zoom image \n",
        "        width_shift_range=0.1,  # randomly shift images horizontally (fraction of total width)\n",
        "        height_shift_range=0.1,  # randomly shift images vertically (fraction of total height)\n",
        "        horizontal_flip = True,\n",
        "        fill_mode='nearest',  # randomly flip images\n",
        "        vertical_flip=False)  # randomly flip images\n",
        "\n",
        "\n",
        "datagen.fit(x_train)"
      ],
      "metadata": {
        "id": "hjksTz46-2-2"
      },
      "execution_count": null,
      "outputs": []
    },
    {
      "cell_type": "code",
      "source": [
        "from tensorflow.keras.applications.vgg16 import VGG16\n",
        "\n",
        "base_model = VGG16(input_shape = (128, 128, 3), # Shape of our images\n",
        "include_top = False, # Leave out the last fully connected layer\n",
        "weights = 'imagenet')"
      ],
      "metadata": {
        "id": "Yq8E2tHq_HfW",
        "colab": {
          "base_uri": "https://localhost:8080/"
        },
        "outputId": "adef07d4-55e9-4a50-a9ed-004681abfc98"
      },
      "execution_count": null,
      "outputs": [
        {
          "output_type": "stream",
          "name": "stdout",
          "text": [
            "Downloading data from https://storage.googleapis.com/tensorflow/keras-applications/vgg16/vgg16_weights_tf_dim_ordering_tf_kernels_notop.h5\n",
            "58892288/58889256 [==============================] - 1s 0us/step\n",
            "58900480/58889256 [==============================] - 1s 0us/step\n"
          ]
        }
      ]
    },
    {
      "cell_type": "code",
      "source": [
        "for layer in base_model.layers:\n",
        "    layer.trainable=False"
      ],
      "metadata": {
        "id": "T_8NlzxA_OBl"
      },
      "execution_count": null,
      "outputs": []
    },
    {
      "cell_type": "code",
      "source": [
        "from tensorflow.keras import layers \n",
        "from tensorflow.keras.layers import InputLayer, BatchNormalization, Dropout, Flatten, Dense, Activation, MaxPool2D, Conv2D"
      ],
      "metadata": {
        "id": "IcpzP5AT_Q7l"
      },
      "execution_count": null,
      "outputs": []
    },
    {
      "cell_type": "code",
      "source": [
        "model=Sequential()\n",
        "model.add(base_model)\n",
        "model.add(Flatten())\n",
        "model.add(Dense(512,kernel_initializer='he_uniform'))\n",
        "model.add(BatchNormalization())\n",
        "\n",
        "model.add(Activation('relu'))\n",
        "model.add(Dropout(0.2))\n",
        "model.add(Dense(256,kernel_initializer='he_uniform'))\n",
        "model.add(BatchNormalization())\n",
        "\n",
        "model.add(Activation('relu'))\n",
        "model.add(Dropout(0.2))\n",
        "model.add(Dense(128,kernel_initializer='he_uniform'))\n",
        "model.add(BatchNormalization())\n",
        "\n",
        "model.add(Activation('relu'))\n",
        "model.add(Dropout(0.2))\n",
        "model.add(Dense(64,kernel_initializer='he_uniform'))\n",
        "model.add(BatchNormalization())\n",
        "\n",
        "model.add(Activation('relu'))\n",
        "model.add(Dropout(0.2))\n",
        "model.add(Dense(32,kernel_initializer='he_uniform'))\n",
        "model.add(BatchNormalization())\n",
        "\n",
        "model.add(Activation('relu'))\n",
        "model.add(Dropout(0.2))\n",
        "model.add(Dense(4,activation='softmax'))"
      ],
      "metadata": {
        "id": "lLg93RE3_UJN"
      },
      "execution_count": null,
      "outputs": []
    },
    {
      "cell_type": "code",
      "source": [
        "opt = Adam(learning_rate=0.0001)\n",
        "model.compile(optimizer = opt , loss = tf.keras.losses.SparseCategoricalCrossentropy(from_logits=False) , metrics = ['accuracy'])\n",
        "\n",
        "history = model.fit(x_train,y_train,epochs = 200,batch_size=64 , validation_data = (x_val, y_val))"
      ],
      "metadata": {
        "colab": {
          "base_uri": "https://localhost:8080/"
        },
        "id": "O-aj5hp1_gCV",
        "outputId": "2235dd67-2707-4d6d-fdca-d078c23b230a"
      },
      "execution_count": null,
      "outputs": [
        {
          "output_type": "stream",
          "name": "stdout",
          "text": [
            "Epoch 1/200\n",
            "80/80 [==============================] - 33s 246ms/step - loss: 1.7494 - accuracy: 0.2284 - val_loss: 1.5230 - val_accuracy: 0.1033\n",
            "Epoch 2/200\n",
            "80/80 [==============================] - 16s 206ms/step - loss: 1.5127 - accuracy: 0.3118 - val_loss: 1.2599 - val_accuracy: 0.4335\n",
            "Epoch 3/200\n",
            "80/80 [==============================] - 17s 207ms/step - loss: 1.3520 - accuracy: 0.4001 - val_loss: 1.1191 - val_accuracy: 0.5978\n",
            "Epoch 4/200\n",
            "80/80 [==============================] - 17s 208ms/step - loss: 1.2305 - accuracy: 0.4632 - val_loss: 1.0344 - val_accuracy: 0.6088\n",
            "Epoch 5/200\n",
            "80/80 [==============================] - 17s 209ms/step - loss: 1.0907 - accuracy: 0.5503 - val_loss: 0.9424 - val_accuracy: 0.6448\n",
            "Epoch 6/200\n",
            "80/80 [==============================] - 17s 210ms/step - loss: 1.0045 - accuracy: 0.6056 - val_loss: 0.8685 - val_accuracy: 0.6870\n",
            "Epoch 7/200\n",
            "80/80 [==============================] - 17s 209ms/step - loss: 0.9047 - accuracy: 0.6597 - val_loss: 0.7751 - val_accuracy: 0.7167\n",
            "Epoch 8/200\n",
            "80/80 [==============================] - 17s 209ms/step - loss: 0.8186 - accuracy: 0.7029 - val_loss: 0.7579 - val_accuracy: 0.7261\n",
            "Epoch 9/200\n",
            "80/80 [==============================] - 17s 209ms/step - loss: 0.7438 - accuracy: 0.7388 - val_loss: 0.7104 - val_accuracy: 0.7574\n",
            "Epoch 10/200\n",
            "80/80 [==============================] - 17s 209ms/step - loss: 0.6736 - accuracy: 0.7783 - val_loss: 0.6424 - val_accuracy: 0.7919\n",
            "Epoch 11/200\n",
            "80/80 [==============================] - 17s 208ms/step - loss: 0.5959 - accuracy: 0.8052 - val_loss: 0.6741 - val_accuracy: 0.7559\n",
            "Epoch 12/200\n",
            "80/80 [==============================] - 17s 209ms/step - loss: 0.5259 - accuracy: 0.8431 - val_loss: 0.5761 - val_accuracy: 0.7950\n",
            "Epoch 13/200\n",
            "80/80 [==============================] - 17s 209ms/step - loss: 0.4733 - accuracy: 0.8613 - val_loss: 0.5749 - val_accuracy: 0.7981\n",
            "Epoch 14/200\n",
            "80/80 [==============================] - 17s 209ms/step - loss: 0.4265 - accuracy: 0.8883 - val_loss: 0.4390 - val_accuracy: 0.8638\n",
            "Epoch 15/200\n",
            "80/80 [==============================] - 17s 209ms/step - loss: 0.3708 - accuracy: 0.9045 - val_loss: 0.4306 - val_accuracy: 0.8623\n",
            "Epoch 16/200\n",
            "80/80 [==============================] - 17s 209ms/step - loss: 0.3410 - accuracy: 0.9140 - val_loss: 0.5030 - val_accuracy: 0.8232\n",
            "Epoch 17/200\n",
            "80/80 [==============================] - 17s 209ms/step - loss: 0.3031 - accuracy: 0.9299 - val_loss: 0.5235 - val_accuracy: 0.8138\n",
            "Epoch 18/200\n",
            "80/80 [==============================] - 17s 209ms/step - loss: 0.2680 - accuracy: 0.9348 - val_loss: 0.4312 - val_accuracy: 0.8592\n",
            "Epoch 19/200\n",
            "80/80 [==============================] - 17s 208ms/step - loss: 0.2397 - accuracy: 0.9473 - val_loss: 0.2542 - val_accuracy: 0.9249\n",
            "Epoch 20/200\n",
            "80/80 [==============================] - 17s 208ms/step - loss: 0.2126 - accuracy: 0.9555 - val_loss: 0.2466 - val_accuracy: 0.9264\n",
            "Epoch 21/200\n",
            "80/80 [==============================] - 17s 208ms/step - loss: 0.2017 - accuracy: 0.9564 - val_loss: 0.2066 - val_accuracy: 0.9437\n",
            "Epoch 22/200\n",
            "80/80 [==============================] - 17s 209ms/step - loss: 0.1881 - accuracy: 0.9596 - val_loss: 0.4604 - val_accuracy: 0.8372\n",
            "Epoch 23/200\n",
            "80/80 [==============================] - 17s 208ms/step - loss: 0.1694 - accuracy: 0.9633 - val_loss: 0.2523 - val_accuracy: 0.9311\n",
            "Epoch 24/200\n",
            "80/80 [==============================] - 17s 209ms/step - loss: 0.1524 - accuracy: 0.9703 - val_loss: 0.1700 - val_accuracy: 0.9546\n",
            "Epoch 25/200\n",
            "80/80 [==============================] - 17s 209ms/step - loss: 0.1474 - accuracy: 0.9725 - val_loss: 0.1573 - val_accuracy: 0.9577\n",
            "Epoch 26/200\n",
            "80/80 [==============================] - 17s 208ms/step - loss: 0.1284 - accuracy: 0.9766 - val_loss: 0.1475 - val_accuracy: 0.9671\n",
            "Epoch 27/200\n",
            "80/80 [==============================] - 17s 208ms/step - loss: 0.1120 - accuracy: 0.9820 - val_loss: 0.2189 - val_accuracy: 0.9327\n",
            "Epoch 28/200\n",
            "80/80 [==============================] - 17s 209ms/step - loss: 0.1096 - accuracy: 0.9801 - val_loss: 0.1702 - val_accuracy: 0.9531\n",
            "Epoch 29/200\n",
            "80/80 [==============================] - 17s 209ms/step - loss: 0.1046 - accuracy: 0.9793 - val_loss: 0.2139 - val_accuracy: 0.9311\n",
            "Epoch 30/200\n",
            "80/80 [==============================] - 17s 208ms/step - loss: 0.0961 - accuracy: 0.9844 - val_loss: 0.1418 - val_accuracy: 0.9546\n",
            "Epoch 31/200\n",
            "80/80 [==============================] - 17s 209ms/step - loss: 0.0902 - accuracy: 0.9816 - val_loss: 0.1717 - val_accuracy: 0.9468\n",
            "Epoch 32/200\n",
            "80/80 [==============================] - 17s 208ms/step - loss: 0.0904 - accuracy: 0.9820 - val_loss: 0.1328 - val_accuracy: 0.9546\n",
            "Epoch 33/200\n",
            "80/80 [==============================] - 17s 208ms/step - loss: 0.0791 - accuracy: 0.9863 - val_loss: 0.1348 - val_accuracy: 0.9624\n",
            "Epoch 34/200\n",
            "80/80 [==============================] - 17s 208ms/step - loss: 0.0721 - accuracy: 0.9871 - val_loss: 0.1717 - val_accuracy: 0.9452\n",
            "Epoch 35/200\n",
            "80/80 [==============================] - 17s 208ms/step - loss: 0.0705 - accuracy: 0.9873 - val_loss: 0.3410 - val_accuracy: 0.8920\n",
            "Epoch 36/200\n",
            "80/80 [==============================] - 17s 208ms/step - loss: 0.0739 - accuracy: 0.9855 - val_loss: 0.2719 - val_accuracy: 0.9092\n",
            "Epoch 37/200\n",
            "80/80 [==============================] - 17s 208ms/step - loss: 0.0750 - accuracy: 0.9844 - val_loss: 0.2325 - val_accuracy: 0.9202\n",
            "Epoch 38/200\n",
            "80/80 [==============================] - 17s 208ms/step - loss: 0.0636 - accuracy: 0.9879 - val_loss: 0.0931 - val_accuracy: 0.9765\n",
            "Epoch 39/200\n",
            "80/80 [==============================] - 17s 208ms/step - loss: 0.0613 - accuracy: 0.9904 - val_loss: 0.2084 - val_accuracy: 0.9358\n",
            "Epoch 40/200\n",
            "80/80 [==============================] - 17s 208ms/step - loss: 0.0608 - accuracy: 0.9873 - val_loss: 0.1671 - val_accuracy: 0.9468\n",
            "Epoch 41/200\n",
            "80/80 [==============================] - 17s 209ms/step - loss: 0.0568 - accuracy: 0.9895 - val_loss: 0.4129 - val_accuracy: 0.8670\n",
            "Epoch 42/200\n",
            "80/80 [==============================] - 17s 209ms/step - loss: 0.0627 - accuracy: 0.9859 - val_loss: 0.2645 - val_accuracy: 0.9155\n",
            "Epoch 43/200\n",
            "80/80 [==============================] - 17s 209ms/step - loss: 0.0535 - accuracy: 0.9895 - val_loss: 0.1329 - val_accuracy: 0.9562\n",
            "Epoch 44/200\n",
            "80/80 [==============================] - 17s 208ms/step - loss: 0.0556 - accuracy: 0.9857 - val_loss: 0.1656 - val_accuracy: 0.9531\n",
            "Epoch 45/200\n",
            "80/80 [==============================] - 17s 209ms/step - loss: 0.0439 - accuracy: 0.9924 - val_loss: 0.1758 - val_accuracy: 0.9405\n",
            "Epoch 46/200\n",
            "80/80 [==============================] - 17s 209ms/step - loss: 0.0503 - accuracy: 0.9900 - val_loss: 0.3274 - val_accuracy: 0.8826\n",
            "Epoch 47/200\n",
            "80/80 [==============================] - 17s 209ms/step - loss: 0.0441 - accuracy: 0.9908 - val_loss: 0.1565 - val_accuracy: 0.9452\n",
            "Epoch 48/200\n",
            "80/80 [==============================] - 17s 209ms/step - loss: 0.0420 - accuracy: 0.9936 - val_loss: 0.0841 - val_accuracy: 0.9797\n",
            "Epoch 49/200\n",
            "80/80 [==============================] - 17s 209ms/step - loss: 0.0394 - accuracy: 0.9916 - val_loss: 0.1718 - val_accuracy: 0.9437\n",
            "Epoch 50/200\n",
            "80/80 [==============================] - 17s 208ms/step - loss: 0.0341 - accuracy: 0.9926 - val_loss: 0.1713 - val_accuracy: 0.9468\n",
            "Epoch 51/200\n",
            "80/80 [==============================] - 17s 209ms/step - loss: 0.0336 - accuracy: 0.9934 - val_loss: 0.0943 - val_accuracy: 0.9750\n",
            "Epoch 52/200\n",
            "80/80 [==============================] - 17s 208ms/step - loss: 0.0401 - accuracy: 0.9902 - val_loss: 0.1292 - val_accuracy: 0.9703\n",
            "Epoch 53/200\n",
            "80/80 [==============================] - 17s 208ms/step - loss: 0.0462 - accuracy: 0.9883 - val_loss: 0.1735 - val_accuracy: 0.9484\n",
            "Epoch 54/200\n",
            "80/80 [==============================] - 17s 208ms/step - loss: 0.0468 - accuracy: 0.9879 - val_loss: 0.8172 - val_accuracy: 0.7700\n",
            "Epoch 55/200\n",
            "80/80 [==============================] - 17s 209ms/step - loss: 0.0567 - accuracy: 0.9848 - val_loss: 0.2627 - val_accuracy: 0.9139\n",
            "Epoch 56/200\n",
            "80/80 [==============================] - 17s 208ms/step - loss: 0.0353 - accuracy: 0.9936 - val_loss: 0.0704 - val_accuracy: 0.9828\n",
            "Epoch 57/200\n",
            "80/80 [==============================] - 17s 209ms/step - loss: 0.0351 - accuracy: 0.9926 - val_loss: 0.2679 - val_accuracy: 0.9155\n",
            "Epoch 58/200\n",
            "80/80 [==============================] - 17s 209ms/step - loss: 0.0385 - accuracy: 0.9898 - val_loss: 0.1015 - val_accuracy: 0.9781\n",
            "Epoch 59/200\n",
            "80/80 [==============================] - 17s 209ms/step - loss: 0.0374 - accuracy: 0.9928 - val_loss: 0.2775 - val_accuracy: 0.9264\n",
            "Epoch 60/200\n",
            "80/80 [==============================] - 17s 208ms/step - loss: 0.0362 - accuracy: 0.9918 - val_loss: 0.4235 - val_accuracy: 0.8983\n",
            "Epoch 61/200\n",
            "80/80 [==============================] - 17s 209ms/step - loss: 0.0354 - accuracy: 0.9900 - val_loss: 0.8174 - val_accuracy: 0.7825\n",
            "Epoch 62/200\n",
            "80/80 [==============================] - 17s 209ms/step - loss: 0.0277 - accuracy: 0.9928 - val_loss: 0.1892 - val_accuracy: 0.9531\n",
            "Epoch 63/200\n",
            "80/80 [==============================] - 17s 209ms/step - loss: 0.0386 - accuracy: 0.9908 - val_loss: 0.4648 - val_accuracy: 0.8638\n",
            "Epoch 64/200\n",
            "80/80 [==============================] - 17s 210ms/step - loss: 0.0434 - accuracy: 0.9867 - val_loss: 0.5980 - val_accuracy: 0.8263\n",
            "Epoch 65/200\n",
            "80/80 [==============================] - 17s 209ms/step - loss: 0.0362 - accuracy: 0.9904 - val_loss: 0.9094 - val_accuracy: 0.7950\n",
            "Epoch 66/200\n",
            "80/80 [==============================] - 17s 209ms/step - loss: 0.0324 - accuracy: 0.9912 - val_loss: 0.5054 - val_accuracy: 0.8576\n",
            "Epoch 67/200\n",
            "80/80 [==============================] - 17s 209ms/step - loss: 0.0288 - accuracy: 0.9928 - val_loss: 0.3119 - val_accuracy: 0.9124\n",
            "Epoch 68/200\n",
            "80/80 [==============================] - 17s 209ms/step - loss: 0.0411 - accuracy: 0.9887 - val_loss: 0.1222 - val_accuracy: 0.9671\n",
            "Epoch 69/200\n",
            "80/80 [==============================] - 17s 209ms/step - loss: 0.0328 - accuracy: 0.9912 - val_loss: 0.1001 - val_accuracy: 0.9750\n",
            "Epoch 70/200\n",
            "80/80 [==============================] - 17s 209ms/step - loss: 0.0390 - accuracy: 0.9885 - val_loss: 0.1413 - val_accuracy: 0.9640\n",
            "Epoch 71/200\n",
            "80/80 [==============================] - 17s 209ms/step - loss: 0.0358 - accuracy: 0.9914 - val_loss: 0.1016 - val_accuracy: 0.9734\n",
            "Epoch 72/200\n",
            "80/80 [==============================] - 17s 210ms/step - loss: 0.0288 - accuracy: 0.9932 - val_loss: 0.1183 - val_accuracy: 0.9703\n",
            "Epoch 73/200\n",
            "80/80 [==============================] - 17s 211ms/step - loss: 0.0290 - accuracy: 0.9930 - val_loss: 0.1393 - val_accuracy: 0.9656\n",
            "Epoch 74/200\n",
            "80/80 [==============================] - 17s 211ms/step - loss: 0.0257 - accuracy: 0.9918 - val_loss: 0.1909 - val_accuracy: 0.9421\n",
            "Epoch 75/200\n",
            "80/80 [==============================] - 17s 211ms/step - loss: 0.0263 - accuracy: 0.9936 - val_loss: 0.1207 - val_accuracy: 0.9656\n",
            "Epoch 76/200\n",
            "80/80 [==============================] - 17s 211ms/step - loss: 0.0335 - accuracy: 0.9906 - val_loss: 0.2669 - val_accuracy: 0.9202\n",
            "Epoch 77/200\n",
            "80/80 [==============================] - 17s 211ms/step - loss: 0.0295 - accuracy: 0.9904 - val_loss: 0.1733 - val_accuracy: 0.9499\n",
            "Epoch 78/200\n",
            "80/80 [==============================] - 17s 212ms/step - loss: 0.0308 - accuracy: 0.9928 - val_loss: 0.3960 - val_accuracy: 0.8920\n",
            "Epoch 79/200\n",
            "80/80 [==============================] - 17s 210ms/step - loss: 0.0230 - accuracy: 0.9932 - val_loss: 0.0987 - val_accuracy: 0.9718\n",
            "Epoch 80/200\n",
            "80/80 [==============================] - 17s 210ms/step - loss: 0.0205 - accuracy: 0.9955 - val_loss: 0.1452 - val_accuracy: 0.9577\n",
            "Epoch 81/200\n",
            "80/80 [==============================] - 17s 211ms/step - loss: 0.0249 - accuracy: 0.9930 - val_loss: 0.1567 - val_accuracy: 0.9515\n",
            "Epoch 82/200\n",
            "80/80 [==============================] - 17s 210ms/step - loss: 0.0214 - accuracy: 0.9941 - val_loss: 0.2444 - val_accuracy: 0.9311\n",
            "Epoch 83/200\n",
            "80/80 [==============================] - 17s 211ms/step - loss: 0.0184 - accuracy: 0.9959 - val_loss: 0.0881 - val_accuracy: 0.9765\n",
            "Epoch 84/200\n",
            "80/80 [==============================] - 17s 210ms/step - loss: 0.0208 - accuracy: 0.9930 - val_loss: 0.1824 - val_accuracy: 0.9531\n",
            "Epoch 85/200\n",
            "80/80 [==============================] - 17s 210ms/step - loss: 0.0338 - accuracy: 0.9916 - val_loss: 0.1516 - val_accuracy: 0.9531\n",
            "Epoch 86/200\n",
            "80/80 [==============================] - 17s 209ms/step - loss: 0.0332 - accuracy: 0.9906 - val_loss: 0.1232 - val_accuracy: 0.9671\n",
            "Epoch 87/200\n",
            "80/80 [==============================] - 17s 209ms/step - loss: 0.0251 - accuracy: 0.9934 - val_loss: 0.1823 - val_accuracy: 0.9577\n",
            "Epoch 88/200\n",
            "80/80 [==============================] - 17s 209ms/step - loss: 0.0261 - accuracy: 0.9939 - val_loss: 0.3459 - val_accuracy: 0.9171\n",
            "Epoch 89/200\n",
            "80/80 [==============================] - 17s 210ms/step - loss: 0.0201 - accuracy: 0.9953 - val_loss: 0.0894 - val_accuracy: 0.9750\n",
            "Epoch 90/200\n",
            "80/80 [==============================] - 17s 210ms/step - loss: 0.0303 - accuracy: 0.9910 - val_loss: 0.4152 - val_accuracy: 0.9030\n",
            "Epoch 91/200\n",
            "80/80 [==============================] - 17s 211ms/step - loss: 0.0285 - accuracy: 0.9924 - val_loss: 0.1685 - val_accuracy: 0.9624\n",
            "Epoch 92/200\n",
            "80/80 [==============================] - 17s 211ms/step - loss: 0.0222 - accuracy: 0.9924 - val_loss: 1.3320 - val_accuracy: 0.7512\n",
            "Epoch 93/200\n",
            "80/80 [==============================] - 17s 211ms/step - loss: 0.0248 - accuracy: 0.9924 - val_loss: 0.1197 - val_accuracy: 0.9656\n",
            "Epoch 94/200\n",
            "80/80 [==============================] - 17s 211ms/step - loss: 0.0246 - accuracy: 0.9936 - val_loss: 0.3086 - val_accuracy: 0.9233\n",
            "Epoch 95/200\n",
            "80/80 [==============================] - 17s 211ms/step - loss: 0.0191 - accuracy: 0.9949 - val_loss: 0.0837 - val_accuracy: 0.9828\n",
            "Epoch 96/200\n",
            "80/80 [==============================] - 17s 211ms/step - loss: 0.0276 - accuracy: 0.9926 - val_loss: 0.0950 - val_accuracy: 0.9797\n",
            "Epoch 97/200\n",
            "80/80 [==============================] - 17s 211ms/step - loss: 0.0301 - accuracy: 0.9914 - val_loss: 0.0997 - val_accuracy: 0.9718\n",
            "Epoch 98/200\n",
            "80/80 [==============================] - 17s 211ms/step - loss: 0.0233 - accuracy: 0.9939 - val_loss: 0.1214 - val_accuracy: 0.9718\n",
            "Epoch 99/200\n",
            "80/80 [==============================] - 17s 211ms/step - loss: 0.0246 - accuracy: 0.9928 - val_loss: 0.5440 - val_accuracy: 0.8701\n",
            "Epoch 100/200\n",
            "80/80 [==============================] - 17s 211ms/step - loss: 0.0194 - accuracy: 0.9945 - val_loss: 0.0976 - val_accuracy: 0.9734\n",
            "Epoch 101/200\n",
            "80/80 [==============================] - 17s 211ms/step - loss: 0.0251 - accuracy: 0.9926 - val_loss: 0.3585 - val_accuracy: 0.9030\n",
            "Epoch 102/200\n",
            "80/80 [==============================] - 17s 210ms/step - loss: 0.0216 - accuracy: 0.9936 - val_loss: 0.7943 - val_accuracy: 0.8153\n",
            "Epoch 103/200\n",
            "80/80 [==============================] - 17s 211ms/step - loss: 0.0295 - accuracy: 0.9918 - val_loss: 0.1421 - val_accuracy: 0.9703\n",
            "Epoch 104/200\n",
            "80/80 [==============================] - 17s 211ms/step - loss: 0.0143 - accuracy: 0.9963 - val_loss: 0.0986 - val_accuracy: 0.9750\n",
            "Epoch 105/200\n",
            "80/80 [==============================] - 17s 210ms/step - loss: 0.0182 - accuracy: 0.9947 - val_loss: 0.0914 - val_accuracy: 0.9750\n",
            "Epoch 106/200\n",
            "80/80 [==============================] - 17s 210ms/step - loss: 0.0198 - accuracy: 0.9953 - val_loss: 0.2440 - val_accuracy: 0.9421\n",
            "Epoch 107/200\n",
            "80/80 [==============================] - 17s 208ms/step - loss: 0.0089 - accuracy: 0.9982 - val_loss: 0.1586 - val_accuracy: 0.9593\n",
            "Epoch 108/200\n",
            "80/80 [==============================] - 17s 208ms/step - loss: 0.0176 - accuracy: 0.9945 - val_loss: 0.1829 - val_accuracy: 0.9562\n",
            "Epoch 109/200\n",
            "80/80 [==============================] - 17s 209ms/step - loss: 0.0251 - accuracy: 0.9936 - val_loss: 0.1143 - val_accuracy: 0.9734\n",
            "Epoch 110/200\n",
            "80/80 [==============================] - 17s 209ms/step - loss: 0.0258 - accuracy: 0.9936 - val_loss: 0.2533 - val_accuracy: 0.9374\n",
            "Epoch 111/200\n",
            "80/80 [==============================] - 17s 209ms/step - loss: 0.0230 - accuracy: 0.9922 - val_loss: 0.1181 - val_accuracy: 0.9687\n",
            "Epoch 112/200\n",
            "80/80 [==============================] - 17s 209ms/step - loss: 0.0187 - accuracy: 0.9947 - val_loss: 0.3474 - val_accuracy: 0.9171\n",
            "Epoch 113/200\n",
            "80/80 [==============================] - 17s 209ms/step - loss: 0.0176 - accuracy: 0.9951 - val_loss: 0.3460 - val_accuracy: 0.9155\n",
            "Epoch 114/200\n",
            "80/80 [==============================] - 17s 210ms/step - loss: 0.0162 - accuracy: 0.9955 - val_loss: 0.4855 - val_accuracy: 0.8545\n",
            "Epoch 115/200\n",
            "80/80 [==============================] - 17s 209ms/step - loss: 0.0262 - accuracy: 0.9930 - val_loss: 0.2179 - val_accuracy: 0.9374\n",
            "Epoch 116/200\n",
            "80/80 [==============================] - 17s 209ms/step - loss: 0.0211 - accuracy: 0.9937 - val_loss: 0.4015 - val_accuracy: 0.9108\n",
            "Epoch 117/200\n",
            "80/80 [==============================] - 17s 210ms/step - loss: 0.0205 - accuracy: 0.9932 - val_loss: 1.1056 - val_accuracy: 0.7793\n",
            "Epoch 118/200\n",
            "80/80 [==============================] - 17s 209ms/step - loss: 0.0123 - accuracy: 0.9961 - val_loss: 1.0653 - val_accuracy: 0.7778\n",
            "Epoch 119/200\n",
            "80/80 [==============================] - 17s 209ms/step - loss: 0.0157 - accuracy: 0.9959 - val_loss: 0.0934 - val_accuracy: 0.9781\n",
            "Epoch 120/200\n",
            "80/80 [==============================] - 17s 209ms/step - loss: 0.0182 - accuracy: 0.9939 - val_loss: 0.1122 - val_accuracy: 0.9703\n",
            "Epoch 121/200\n",
            "80/80 [==============================] - 17s 209ms/step - loss: 0.0182 - accuracy: 0.9939 - val_loss: 0.1698 - val_accuracy: 0.9562\n",
            "Epoch 122/200\n",
            "80/80 [==============================] - 17s 209ms/step - loss: 0.0116 - accuracy: 0.9969 - val_loss: 0.1048 - val_accuracy: 0.9781\n",
            "Epoch 123/200\n",
            "80/80 [==============================] - 17s 209ms/step - loss: 0.0147 - accuracy: 0.9953 - val_loss: 0.3121 - val_accuracy: 0.9249\n",
            "Epoch 124/200\n",
            "80/80 [==============================] - 17s 210ms/step - loss: 0.0120 - accuracy: 0.9977 - val_loss: 0.0949 - val_accuracy: 0.9765\n",
            "Epoch 125/200\n",
            "80/80 [==============================] - 17s 211ms/step - loss: 0.0113 - accuracy: 0.9967 - val_loss: 0.1345 - val_accuracy: 0.9687\n",
            "Epoch 126/200\n",
            "80/80 [==============================] - 17s 211ms/step - loss: 0.0191 - accuracy: 0.9951 - val_loss: 1.1369 - val_accuracy: 0.7856\n",
            "Epoch 127/200\n",
            "80/80 [==============================] - 17s 211ms/step - loss: 0.0124 - accuracy: 0.9965 - val_loss: 0.3455 - val_accuracy: 0.9233\n",
            "Epoch 128/200\n",
            "80/80 [==============================] - 17s 212ms/step - loss: 0.0129 - accuracy: 0.9969 - val_loss: 0.1974 - val_accuracy: 0.9484\n",
            "Epoch 129/200\n",
            "80/80 [==============================] - 17s 211ms/step - loss: 0.0123 - accuracy: 0.9963 - val_loss: 0.3560 - val_accuracy: 0.9343\n",
            "Epoch 130/200\n",
            "80/80 [==============================] - 17s 211ms/step - loss: 0.0106 - accuracy: 0.9977 - val_loss: 0.0950 - val_accuracy: 0.9797\n",
            "Epoch 131/200\n",
            "80/80 [==============================] - 17s 211ms/step - loss: 0.0210 - accuracy: 0.9947 - val_loss: 0.1499 - val_accuracy: 0.9609\n",
            "Epoch 132/200\n",
            "80/80 [==============================] - 17s 211ms/step - loss: 0.0172 - accuracy: 0.9947 - val_loss: 0.7926 - val_accuracy: 0.8326\n",
            "Epoch 133/200\n",
            "80/80 [==============================] - 17s 211ms/step - loss: 0.0170 - accuracy: 0.9951 - val_loss: 0.2026 - val_accuracy: 0.9405\n",
            "Epoch 134/200\n",
            "80/80 [==============================] - 17s 211ms/step - loss: 0.0166 - accuracy: 0.9955 - val_loss: 0.0763 - val_accuracy: 0.9797\n",
            "Epoch 135/200\n",
            "80/80 [==============================] - 17s 211ms/step - loss: 0.0133 - accuracy: 0.9957 - val_loss: 0.0666 - val_accuracy: 0.9828\n",
            "Epoch 136/200\n",
            "80/80 [==============================] - 17s 211ms/step - loss: 0.0158 - accuracy: 0.9947 - val_loss: 0.1082 - val_accuracy: 0.9656\n",
            "Epoch 137/200\n",
            "80/80 [==============================] - 17s 210ms/step - loss: 0.0135 - accuracy: 0.9971 - val_loss: 0.2407 - val_accuracy: 0.9484\n",
            "Epoch 138/200\n",
            "80/80 [==============================] - 17s 210ms/step - loss: 0.0157 - accuracy: 0.9949 - val_loss: 0.5937 - val_accuracy: 0.8638\n",
            "Epoch 139/200\n",
            "80/80 [==============================] - 17s 211ms/step - loss: 0.0183 - accuracy: 0.9957 - val_loss: 0.1328 - val_accuracy: 0.9687\n",
            "Epoch 140/200\n",
            "80/80 [==============================] - 17s 212ms/step - loss: 0.0118 - accuracy: 0.9969 - val_loss: 0.5344 - val_accuracy: 0.8748\n",
            "Epoch 141/200\n",
            "80/80 [==============================] - 17s 211ms/step - loss: 0.0076 - accuracy: 0.9986 - val_loss: 0.4004 - val_accuracy: 0.9045\n",
            "Epoch 142/200\n",
            "80/80 [==============================] - 17s 212ms/step - loss: 0.0200 - accuracy: 0.9932 - val_loss: 0.3178 - val_accuracy: 0.9311\n",
            "Epoch 143/200\n",
            "80/80 [==============================] - 17s 211ms/step - loss: 0.0159 - accuracy: 0.9953 - val_loss: 0.2250 - val_accuracy: 0.9531\n",
            "Epoch 144/200\n",
            "80/80 [==============================] - 17s 211ms/step - loss: 0.0217 - accuracy: 0.9928 - val_loss: 0.1226 - val_accuracy: 0.9718\n",
            "Epoch 145/200\n",
            "80/80 [==============================] - 17s 212ms/step - loss: 0.0094 - accuracy: 0.9975 - val_loss: 0.0900 - val_accuracy: 0.9781\n",
            "Epoch 146/200\n",
            "80/80 [==============================] - 17s 212ms/step - loss: 0.0111 - accuracy: 0.9969 - val_loss: 0.2258 - val_accuracy: 0.9358\n",
            "Epoch 147/200\n",
            "80/80 [==============================] - 17s 211ms/step - loss: 0.0179 - accuracy: 0.9943 - val_loss: 0.7403 - val_accuracy: 0.8310\n",
            "Epoch 148/200\n",
            "80/80 [==============================] - 17s 211ms/step - loss: 0.0128 - accuracy: 0.9963 - val_loss: 0.4211 - val_accuracy: 0.9014\n",
            "Epoch 149/200\n",
            "80/80 [==============================] - 17s 212ms/step - loss: 0.0149 - accuracy: 0.9951 - val_loss: 0.1171 - val_accuracy: 0.9765\n",
            "Epoch 150/200\n",
            "80/80 [==============================] - 17s 211ms/step - loss: 0.0164 - accuracy: 0.9953 - val_loss: 0.3719 - val_accuracy: 0.9202\n",
            "Epoch 151/200\n",
            "80/80 [==============================] - 17s 211ms/step - loss: 0.0147 - accuracy: 0.9953 - val_loss: 0.2347 - val_accuracy: 0.9405\n",
            "Epoch 152/200\n",
            "80/80 [==============================] - 17s 211ms/step - loss: 0.0301 - accuracy: 0.9918 - val_loss: 0.1414 - val_accuracy: 0.9640\n",
            "Epoch 153/200\n",
            "80/80 [==============================] - 17s 210ms/step - loss: 0.0212 - accuracy: 0.9941 - val_loss: 0.1637 - val_accuracy: 0.9593\n",
            "Epoch 154/200\n",
            "80/80 [==============================] - 17s 210ms/step - loss: 0.0177 - accuracy: 0.9934 - val_loss: 0.1305 - val_accuracy: 0.9703\n",
            "Epoch 155/200\n",
            "80/80 [==============================] - 17s 212ms/step - loss: 0.0162 - accuracy: 0.9961 - val_loss: 0.1404 - val_accuracy: 0.9609\n",
            "Epoch 156/200\n",
            "80/80 [==============================] - 17s 212ms/step - loss: 0.0099 - accuracy: 0.9971 - val_loss: 0.2002 - val_accuracy: 0.9546\n",
            "Epoch 157/200\n",
            "80/80 [==============================] - 17s 212ms/step - loss: 0.0108 - accuracy: 0.9965 - val_loss: 0.2030 - val_accuracy: 0.9405\n",
            "Epoch 158/200\n",
            "80/80 [==============================] - 17s 211ms/step - loss: 0.0141 - accuracy: 0.9957 - val_loss: 0.1636 - val_accuracy: 0.9531\n",
            "Epoch 159/200\n",
            "80/80 [==============================] - 17s 212ms/step - loss: 0.0088 - accuracy: 0.9977 - val_loss: 0.1071 - val_accuracy: 0.9687\n",
            "Epoch 160/200\n",
            "80/80 [==============================] - 17s 211ms/step - loss: 0.0096 - accuracy: 0.9967 - val_loss: 0.1281 - val_accuracy: 0.9718\n",
            "Epoch 161/200\n",
            "80/80 [==============================] - 17s 212ms/step - loss: 0.0109 - accuracy: 0.9959 - val_loss: 0.1837 - val_accuracy: 0.9531\n",
            "Epoch 162/200\n",
            "80/80 [==============================] - 17s 211ms/step - loss: 0.0116 - accuracy: 0.9967 - val_loss: 0.1095 - val_accuracy: 0.9734\n",
            "Epoch 163/200\n",
            "80/80 [==============================] - 17s 212ms/step - loss: 0.0094 - accuracy: 0.9977 - val_loss: 0.0777 - val_accuracy: 0.9844\n",
            "Epoch 164/200\n",
            "80/80 [==============================] - 17s 211ms/step - loss: 0.0102 - accuracy: 0.9977 - val_loss: 0.0812 - val_accuracy: 0.9812\n",
            "Epoch 165/200\n",
            "80/80 [==============================] - 17s 212ms/step - loss: 0.0087 - accuracy: 0.9975 - val_loss: 0.1207 - val_accuracy: 0.9734\n",
            "Epoch 166/200\n",
            "80/80 [==============================] - 17s 211ms/step - loss: 0.0075 - accuracy: 0.9980 - val_loss: 0.0968 - val_accuracy: 0.9797\n",
            "Epoch 167/200\n",
            "80/80 [==============================] - 17s 212ms/step - loss: 0.0111 - accuracy: 0.9965 - val_loss: 0.5705 - val_accuracy: 0.8858\n",
            "Epoch 168/200\n",
            "80/80 [==============================] - 17s 212ms/step - loss: 0.0104 - accuracy: 0.9973 - val_loss: 0.2017 - val_accuracy: 0.9484\n",
            "Epoch 169/200\n",
            "80/80 [==============================] - 17s 212ms/step - loss: 0.0102 - accuracy: 0.9961 - val_loss: 0.1675 - val_accuracy: 0.9640\n",
            "Epoch 170/200\n",
            "80/80 [==============================] - 17s 211ms/step - loss: 0.0165 - accuracy: 0.9947 - val_loss: 0.2681 - val_accuracy: 0.9296\n",
            "Epoch 171/200\n",
            "80/80 [==============================] - 17s 212ms/step - loss: 0.0109 - accuracy: 0.9977 - val_loss: 0.0879 - val_accuracy: 0.9750\n",
            "Epoch 172/200\n",
            "80/80 [==============================] - 17s 211ms/step - loss: 0.0171 - accuracy: 0.9955 - val_loss: 0.2744 - val_accuracy: 0.9249\n",
            "Epoch 173/200\n",
            "80/80 [==============================] - 17s 211ms/step - loss: 0.0170 - accuracy: 0.9951 - val_loss: 0.1679 - val_accuracy: 0.9593\n",
            "Epoch 174/200\n",
            "80/80 [==============================] - 17s 211ms/step - loss: 0.0137 - accuracy: 0.9965 - val_loss: 0.1500 - val_accuracy: 0.9656\n",
            "Epoch 175/200\n",
            "80/80 [==============================] - 17s 211ms/step - loss: 0.0077 - accuracy: 0.9980 - val_loss: 0.1651 - val_accuracy: 0.9593\n",
            "Epoch 176/200\n",
            "80/80 [==============================] - 17s 211ms/step - loss: 0.0127 - accuracy: 0.9967 - val_loss: 0.1495 - val_accuracy: 0.9593\n",
            "Epoch 177/200\n",
            "80/80 [==============================] - 17s 211ms/step - loss: 0.0065 - accuracy: 0.9982 - val_loss: 0.0687 - val_accuracy: 0.9812\n",
            "Epoch 178/200\n",
            "80/80 [==============================] - 17s 212ms/step - loss: 0.0079 - accuracy: 0.9980 - val_loss: 0.0572 - val_accuracy: 0.9875\n",
            "Epoch 179/200\n",
            "80/80 [==============================] - 17s 212ms/step - loss: 0.0096 - accuracy: 0.9969 - val_loss: 0.1346 - val_accuracy: 0.9671\n",
            "Epoch 180/200\n",
            "80/80 [==============================] - 17s 211ms/step - loss: 0.0132 - accuracy: 0.9959 - val_loss: 0.1232 - val_accuracy: 0.9703\n",
            "Epoch 181/200\n",
            "80/80 [==============================] - 17s 211ms/step - loss: 0.0132 - accuracy: 0.9961 - val_loss: 0.1566 - val_accuracy: 0.9656\n",
            "Epoch 182/200\n",
            "80/80 [==============================] - 17s 212ms/step - loss: 0.0143 - accuracy: 0.9953 - val_loss: 0.0951 - val_accuracy: 0.9765\n",
            "Epoch 183/200\n",
            "80/80 [==============================] - 17s 212ms/step - loss: 0.0133 - accuracy: 0.9967 - val_loss: 0.0898 - val_accuracy: 0.9781\n",
            "Epoch 184/200\n",
            "80/80 [==============================] - 17s 212ms/step - loss: 0.0123 - accuracy: 0.9971 - val_loss: 0.3370 - val_accuracy: 0.9171\n",
            "Epoch 185/200\n",
            "80/80 [==============================] - 17s 211ms/step - loss: 0.0172 - accuracy: 0.9955 - val_loss: 0.2812 - val_accuracy: 0.9405\n",
            "Epoch 186/200\n",
            "80/80 [==============================] - 17s 212ms/step - loss: 0.0124 - accuracy: 0.9965 - val_loss: 0.1565 - val_accuracy: 0.9609\n",
            "Epoch 187/200\n",
            "80/80 [==============================] - 17s 212ms/step - loss: 0.0149 - accuracy: 0.9953 - val_loss: 0.2215 - val_accuracy: 0.9499\n",
            "Epoch 188/200\n",
            "80/80 [==============================] - 17s 212ms/step - loss: 0.0084 - accuracy: 0.9980 - val_loss: 0.1045 - val_accuracy: 0.9797\n",
            "Epoch 189/200\n",
            "80/80 [==============================] - 17s 212ms/step - loss: 0.0055 - accuracy: 0.9986 - val_loss: 0.0711 - val_accuracy: 0.9797\n",
            "Epoch 190/200\n",
            "80/80 [==============================] - 17s 212ms/step - loss: 0.0131 - accuracy: 0.9971 - val_loss: 0.0938 - val_accuracy: 0.9844\n",
            "Epoch 191/200\n",
            "80/80 [==============================] - 17s 211ms/step - loss: 0.0148 - accuracy: 0.9955 - val_loss: 0.1366 - val_accuracy: 0.9656\n",
            "Epoch 192/200\n",
            "80/80 [==============================] - 17s 213ms/step - loss: 0.0148 - accuracy: 0.9957 - val_loss: 0.4918 - val_accuracy: 0.8967\n",
            "Epoch 193/200\n",
            "80/80 [==============================] - 17s 213ms/step - loss: 0.0105 - accuracy: 0.9969 - val_loss: 0.0695 - val_accuracy: 0.9859\n",
            "Epoch 194/200\n",
            "80/80 [==============================] - 17s 213ms/step - loss: 0.0084 - accuracy: 0.9973 - val_loss: 0.1750 - val_accuracy: 0.9562\n",
            "Epoch 195/200\n",
            "80/80 [==============================] - 17s 212ms/step - loss: 0.0094 - accuracy: 0.9979 - val_loss: 0.2674 - val_accuracy: 0.9405\n",
            "Epoch 196/200\n",
            "80/80 [==============================] - 17s 213ms/step - loss: 0.0104 - accuracy: 0.9967 - val_loss: 0.0816 - val_accuracy: 0.9797\n",
            "Epoch 197/200\n",
            "80/80 [==============================] - 17s 212ms/step - loss: 0.0055 - accuracy: 0.9984 - val_loss: 0.1929 - val_accuracy: 0.9624\n",
            "Epoch 198/200\n",
            "80/80 [==============================] - 17s 213ms/step - loss: 0.0082 - accuracy: 0.9971 - val_loss: 0.1174 - val_accuracy: 0.9765\n",
            "Epoch 199/200\n",
            "80/80 [==============================] - 17s 213ms/step - loss: 0.0077 - accuracy: 0.9982 - val_loss: 0.1640 - val_accuracy: 0.9609\n",
            "Epoch 200/200\n",
            "80/80 [==============================] - 17s 213ms/step - loss: 0.0065 - accuracy: 0.9984 - val_loss: 0.1383 - val_accuracy: 0.9624\n"
          ]
        }
      ]
    },
    {
      "cell_type": "code",
      "source": [
        "scores = model.evaluate(x_test,y_test , verbose=1)"
      ],
      "metadata": {
        "colab": {
          "base_uri": "https://localhost:8080/"
        },
        "id": "z-4SC1gLCpf6",
        "outputId": "83b98101-6abc-4ce1-8f92-683f0d076297"
      },
      "execution_count": null,
      "outputs": [
        {
          "output_type": "stream",
          "name": "stdout",
          "text": [
            "21/21 [==============================] - 5s 133ms/step - loss: 0.1611 - accuracy: 0.9611\n"
          ]
        }
      ]
    },
    {
      "cell_type": "code",
      "source": [
        "accuracy= scores[1]*100\n",
        "loss=scores[0]\n",
        "print('Accuracy: ', accuracy)\n",
        "print('Loss: ',  loss)"
      ],
      "metadata": {
        "colab": {
          "base_uri": "https://localhost:8080/"
        },
        "id": "NBw2QJADC9P0",
        "outputId": "dbdf6082-7220-4b4a-e47f-c915e92540f6"
      },
      "execution_count": null,
      "outputs": [
        {
          "output_type": "stream",
          "name": "stdout",
          "text": [
            "Accuracy:  96.10592126846313\n",
            "Loss:  0.16110990941524506\n"
          ]
        }
      ]
    },
    {
      "cell_type": "code",
      "source": [
        "acc = history.history['accuracy']\n",
        "val_acc = history.history['val_accuracy']\n",
        "loss = history.history['loss']\n",
        "val_loss = history.history['val_loss']\n",
        "\n",
        "epochs_range = range(200)\n",
        "\n",
        "plt.figure(figsize=(15, 15))\n",
        "plt.subplot(2, 2, 1)\n",
        "plt.plot(epochs_range, acc, label='Training Accuracy')\n",
        "plt.plot(epochs_range, val_acc, label='Validation Accuracy')\n",
        "plt.legend(loc='lower right')\n",
        "plt.xlabel('Epochs')\n",
        "plt.ylabel('Accuracy')\n",
        "plt.grid(False)\n",
        "plt.title('Training and Validation Accuracy')\n",
        "\n",
        "epochs_range = range(200)\n",
        "\n",
        "plt.figure(figsize=(15, 15))\n",
        "plt.subplot(2, 2, 1)\n",
        "\n",
        "plt.plot(epochs_range, loss, label='Training Loss')\n",
        "plt.plot(epochs_range, val_loss, label='Validation Loss')\n",
        "plt.legend(loc='upper right')\n",
        "plt.title('Training and Validation Loss')\n",
        "plt.xlabel('Epochs')\n",
        "plt.ylabel('Loss')\n",
        "plt.grid(False)\n",
        "plt.show()"
      ],
      "metadata": {
        "colab": {
          "base_uri": "https://localhost:8080/",
          "height": 881
        },
        "id": "hVBP-jcMDIRh",
        "outputId": "423d6a37-1596-4cf5-a404-ba98e3a8db55"
      },
      "execution_count": null,
      "outputs": [
        {
          "output_type": "display_data",
          "data": {
            "image/png": "[encoded data removed]",
            "text/plain": [
              "<Figure size 1080x1080 with 1 Axes>"
            ]
          },
          "metadata": {
            "needs_background": "light"
          }
        },
        {
          "output_type": "display_data",
          "data": {
            "image/png": "[encoded data removed]",
            "text/plain": [
              "<Figure size 1080x1080 with 1 Axes>"
            ]
          },
          "metadata": {
            "needs_background": "light"
          }
        }
      ]
    }
  ]
}