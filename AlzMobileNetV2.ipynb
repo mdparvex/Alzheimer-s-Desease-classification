{
  "nbformat": 4,
  "nbformat_minor": 0,
  "metadata": {
    "colab": {
      "name": "AlzMobileNetV2.ipynb",
      "provenance": [],
      "collapsed_sections": [],
      "include_colab_link": true
    },
    "kernelspec": {
      "name": "python3",
      "display_name": "Python 3"
    },
    "language_info": {
      "name": "python"
    },
    "accelerator": "GPU"
  },
  "cells": [
    {
      "cell_type": "markdown",
      "metadata": {
        "id": "view-in-github",
        "colab_type": "text"
      },
      "source": [
        "<a href=\"https://colab.research.google.com/github/mdparvex/Alzheimer-s-Desease-classification/blob/main/AlzMobileNetV2.ipynb\" target=\"_parent\"><img src=\"https://colab.research.google.com/assets/colab-badge.svg\" alt=\"Open In Colab\"/></a>"
      ]
    },
    {
      "cell_type": "code",
      "execution_count": null,
      "metadata": {
        "id": "B4XO841q6xSZ"
      },
      "outputs": [],
      "source": [
        "import matplotlib.pyplot as plt\n",
        "import seaborn as sns\n",
        "\n",
        "import keras\n",
        "from keras.models import Sequential\n",
        "from keras.layers import Dense, Conv2D , MaxPool2D , Flatten , Dropout,BatchNormalization \n",
        "from keras.preprocessing.image import ImageDataGenerator\n",
        "#from keras.optimizers import Adam\n",
        "from tensorflow.keras.optimizers import Adam\n",
        "\n",
        "from sklearn.metrics import classification_report,confusion_matrix\n",
        "import tensorflow as tf\n",
        "import pandas as pd\n",
        "\n",
        "from mlxtend.plotting import plot_confusion_matrix\n",
        "from sklearn.metrics import confusion_matrix\n",
        "\n",
        "#import splitfolders\n",
        "import os\n",
        "import cv2\n",
        "import numpy as np\n",
        "import random"
      ]
    },
    {
      "cell_type": "code",
      "source": [
        "labels = ['MildDemented', 'ModerateDemented', 'NonDemented', 'VeryMildDemented']\n",
        "img_size = 128\n",
        "def get_data(data_dir):\n",
        "    data = []\n",
        "    for label in labels: \n",
        "        path = os.path.join(data_dir, label)\n",
        "        class_num = labels.index(label)\n",
        "        for img in os.listdir(path):\n",
        "            try:\n",
        "                img_arr = cv2.imread(os.path.join(path, img))[...,::-1] #convert BGR to RGB format\n",
        "                resized_arr = cv2.resize(img_arr, (img_size, img_size)) # Reshaping images to preferred size\n",
        "                data.append([resized_arr, class_num])\n",
        "            except Exception as e:\n",
        "                print(e)\n",
        "    return np.array(data)"
      ],
      "metadata": {
        "id": "kaIL7NLV87Jg"
      },
      "execution_count": null,
      "outputs": []
    },
    {
      "cell_type": "code",
      "source": [
        "from google.colab import drive\n",
        "drive.mount('/content/drive')"
      ],
      "metadata": {
        "colab": {
          "base_uri": "https://localhost:8080/"
        },
        "id": "XWlWfjxB9C4n",
        "outputId": "4af4b4af-15a0-4fcc-ba7c-126f4ae8f2b9"
      },
      "execution_count": null,
      "outputs": [
        {
          "output_type": "stream",
          "name": "stdout",
          "text": [
            "Mounted at /content/drive\n"
          ]
        }
      ]
    },
    {
      "cell_type": "code",
      "source": [
        "train = get_data('/content/drive/MyDrive/Colab Notebooks/CSE499ANew/train_test_val/train')\n",
        "val = get_data('/content/drive/MyDrive/Colab Notebooks/CSE499ANew/train_test_val/val')\n",
        "test = get_data('/content/drive/MyDrive/Colab Notebooks/CSE499ANew/train_test_val/test')"
      ],
      "metadata": {
        "colab": {
          "base_uri": "https://localhost:8080/"
        },
        "id": "gygoNNBZ9HBw",
        "outputId": "18bc28f9-6188-4fd0-c926-a0fca329f576"
      },
      "execution_count": null,
      "outputs": [
        {
          "output_type": "stream",
          "name": "stderr",
          "text": [
            "/usr/local/lib/python3.7/dist-packages/ipykernel_launcher.py:15: VisibleDeprecationWarning: Creating an ndarray from ragged nested sequences (which is a list-or-tuple of lists-or-tuples-or ndarrays with different lengths or shapes) is deprecated. If you meant to do this, you must specify 'dtype=object' when creating the ndarray.\n",
            "  from ipykernel import kernelapp as app\n"
          ]
        }
      ]
    },
    {
      "cell_type": "code",
      "source": [
        "x_train = []\n",
        "y_train = []\n",
        "x_val = []\n",
        "y_val = []\n",
        "\n",
        "x_test=[]\n",
        "y_test=[]\n",
        "\n",
        "for feature, label in train:\n",
        "    x_train.append(feature)\n",
        "    y_train.append(label)\n",
        "\n",
        "for feature, label in val:\n",
        "    x_val.append(feature)\n",
        "    y_val.append(label)\n",
        "\n",
        "for feature, label in test:\n",
        "  x_test.append(feature)\n",
        "  y_test.append(label)\n",
        "\n",
        "# Normalize the data\n",
        "x_train = np.array(x_train) / 255\n",
        "x_val = np.array(x_val) / 255\n",
        "x_test = np.array(x_test)/255\n",
        "\n",
        "\n",
        "x_train.reshape(-1, img_size, img_size, 1)\n",
        "y_train = np.array(y_train)\n",
        "\n",
        "x_val.reshape(-1, img_size, img_size, 1)\n",
        "y_val = np.array(y_val)\n",
        "\n",
        "x_test.reshape(-1, img_size, img_size, 1)\n",
        "y_test = np.array(y_test)"
      ],
      "metadata": {
        "id": "1bTW2N1w-rrm"
      },
      "execution_count": null,
      "outputs": []
    },
    {
      "cell_type": "code",
      "source": [
        "x_train.shape"
      ],
      "metadata": {
        "colab": {
          "base_uri": "https://localhost:8080/"
        },
        "id": "bvPNhmsX-tvW",
        "outputId": "7229bba5-5a54-439a-f9e1-a83c2303b8c7"
      },
      "execution_count": null,
      "outputs": [
        {
          "output_type": "execute_result",
          "data": {
            "text/plain": [
              "(5119, 128, 128, 3)"
            ]
          },
          "metadata": {},
          "execution_count": 7
        }
      ]
    },
    {
      "cell_type": "code",
      "source": [
        "x_test.shape"
      ],
      "metadata": {
        "colab": {
          "base_uri": "https://localhost:8080/"
        },
        "id": "rkrxHxXZ-xs2",
        "outputId": "85147059-3412-4fdc-a19c-481eae02c07a"
      },
      "execution_count": null,
      "outputs": [
        {
          "output_type": "execute_result",
          "data": {
            "text/plain": [
              "(642, 128, 128, 3)"
            ]
          },
          "metadata": {},
          "execution_count": 8
        }
      ]
    },
    {
      "cell_type": "code",
      "source": [
        "datagen = ImageDataGenerator(\n",
        "        featurewise_center=False,  # set input mean to 0 over the dataset\n",
        "        samplewise_center=False,  # set each sample mean to 0\n",
        "        featurewise_std_normalization=False,  # divide inputs by std of the dataset\n",
        "        samplewise_std_normalization=False,  # divide each input by its std\n",
        "        zca_whitening=False,  # apply ZCA whitening\n",
        "        rotation_range = 30,  # randomly rotate images in the range (degrees, 0 to 180)\n",
        "        zoom_range = 0.3, # Randomly zoom image \n",
        "        width_shift_range=0.1,  # randomly shift images horizontally (fraction of total width)\n",
        "        height_shift_range=0.1,  # randomly shift images vertically (fraction of total height)\n",
        "        horizontal_flip = True,\n",
        "        fill_mode='nearest',  # randomly flip images\n",
        "        vertical_flip=False)  # randomly flip images\n",
        "\n",
        "\n",
        "datagen.fit(x_train)"
      ],
      "metadata": {
        "id": "hjksTz46-2-2"
      },
      "execution_count": null,
      "outputs": []
    },
    {
      "cell_type": "code",
      "source": [
        "from tensorflow.keras.applications.mobilenet_v2 import MobileNetV2\n"
      ],
      "metadata": {
        "id": "Yq8E2tHq_HfW"
      },
      "execution_count": null,
      "outputs": []
    },
    {
      "cell_type": "code",
      "source": [
        "base_model = MobileNetV2(input_shape = (128, 128, 3), # Shape of our images\n",
        "include_top = False, # Leave out the last fully connected layer\n",
        "weights = 'imagenet')"
      ],
      "metadata": {
        "id": "Bl0okHh2_Jc1",
        "colab": {
          "base_uri": "https://localhost:8080/"
        },
        "outputId": "0e26a52e-4a5f-45db-c267-6d9d4f590ab7"
      },
      "execution_count": null,
      "outputs": [
        {
          "output_type": "stream",
          "name": "stdout",
          "text": [
            "Downloading data from https://storage.googleapis.com/tensorflow/keras-applications/mobilenet_v2/mobilenet_v2_weights_tf_dim_ordering_tf_kernels_1.0_128_no_top.h5\n",
            "9412608/9406464 [==============================] - 0s 0us/step\n",
            "9420800/9406464 [==============================] - 0s 0us/step\n"
          ]
        }
      ]
    },
    {
      "cell_type": "code",
      "source": [
        "for layer in base_model.layers:\n",
        "    layer.trainable=False"
      ],
      "metadata": {
        "id": "T_8NlzxA_OBl"
      },
      "execution_count": null,
      "outputs": []
    },
    {
      "cell_type": "code",
      "source": [
        "from tensorflow.keras import layers \n",
        "from tensorflow.keras.layers import InputLayer, BatchNormalization, Dropout, Flatten, Dense, Activation, MaxPool2D, Conv2D"
      ],
      "metadata": {
        "id": "IcpzP5AT_Q7l"
      },
      "execution_count": null,
      "outputs": []
    },
    {
      "cell_type": "code",
      "source": [
        "model=Sequential()\n",
        "model.add(base_model)\n",
        "model.add(Flatten())\n",
        "model.add(Dense(512,kernel_initializer='he_uniform'))\n",
        "model.add(BatchNormalization())\n",
        "\n",
        "model.add(Activation('relu'))\n",
        "model.add(Dropout(0.2))\n",
        "model.add(Dense(256,kernel_initializer='he_uniform'))\n",
        "model.add(BatchNormalization())\n",
        "\n",
        "model.add(Activation('relu'))\n",
        "model.add(Dropout(0.2))\n",
        "model.add(Dense(128,kernel_initializer='he_uniform'))\n",
        "model.add(BatchNormalization())\n",
        "\n",
        "model.add(Activation('relu'))\n",
        "model.add(Dropout(0.2))\n",
        "model.add(Dense(64,kernel_initializer='he_uniform'))\n",
        "model.add(BatchNormalization())\n",
        "\n",
        "model.add(Activation('relu'))\n",
        "model.add(Dropout(0.2))\n",
        "model.add(Dense(32,kernel_initializer='he_uniform'))\n",
        "model.add(BatchNormalization())\n",
        "\n",
        "model.add(Activation('relu'))\n",
        "model.add(Dropout(0.2))\n",
        "model.add(Dense(4,activation='softmax'))"
      ],
      "metadata": {
        "id": "lLg93RE3_UJN"
      },
      "execution_count": null,
      "outputs": []
    },
    {
      "cell_type": "code",
      "source": [
        "opt = Adam(learning_rate=0.0001)\n",
        "model.compile(optimizer = opt , loss = tf.keras.losses.SparseCategoricalCrossentropy(from_logits=False) , metrics = ['accuracy'])\n",
        "\n",
        "history = model.fit(x_train,y_train,epochs = 200,batch_size=64 , validation_data = (x_val, y_val))"
      ],
      "metadata": {
        "colab": {
          "base_uri": "https://localhost:8080/"
        },
        "id": "O-aj5hp1_gCV",
        "outputId": "5e8feb96-2d34-4af9-831e-5e4123567c5c"
      },
      "execution_count": null,
      "outputs": [
        {
          "output_type": "stream",
          "name": "stdout",
          "text": [
            "Epoch 1/200\n",
            "80/80 [==============================] - 22s 99ms/step - loss: 1.5645 - accuracy: 0.3180 - val_loss: 1.2263 - val_accuracy: 0.4977\n",
            "Epoch 2/200\n",
            "80/80 [==============================] - 6s 76ms/step - loss: 1.2962 - accuracy: 0.4522 - val_loss: 1.1004 - val_accuracy: 0.5962\n",
            "Epoch 3/200\n",
            "80/80 [==============================] - 6s 75ms/step - loss: 1.1432 - accuracy: 0.5267 - val_loss: 0.9560 - val_accuracy: 0.6761\n",
            "Epoch 4/200\n",
            "80/80 [==============================] - 6s 75ms/step - loss: 1.0109 - accuracy: 0.6009 - val_loss: 0.9292 - val_accuracy: 0.6761\n",
            "Epoch 5/200\n",
            "80/80 [==============================] - 6s 75ms/step - loss: 0.9046 - accuracy: 0.6613 - val_loss: 0.8371 - val_accuracy: 0.7089\n",
            "Epoch 6/200\n",
            "80/80 [==============================] - 6s 75ms/step - loss: 0.8160 - accuracy: 0.7005 - val_loss: 0.6694 - val_accuracy: 0.7700\n",
            "Epoch 7/200\n",
            "80/80 [==============================] - 6s 75ms/step - loss: 0.7139 - accuracy: 0.7494 - val_loss: 0.6204 - val_accuracy: 0.7981\n",
            "Epoch 8/200\n",
            "80/80 [==============================] - 6s 75ms/step - loss: 0.6338 - accuracy: 0.7892 - val_loss: 0.5430 - val_accuracy: 0.8138\n",
            "Epoch 9/200\n",
            "80/80 [==============================] - 6s 75ms/step - loss: 0.5591 - accuracy: 0.8199 - val_loss: 0.5081 - val_accuracy: 0.8294\n",
            "Epoch 10/200\n",
            "80/80 [==============================] - 6s 75ms/step - loss: 0.4989 - accuracy: 0.8519 - val_loss: 0.4627 - val_accuracy: 0.8701\n",
            "Epoch 11/200\n",
            "80/80 [==============================] - 6s 75ms/step - loss: 0.4372 - accuracy: 0.8736 - val_loss: 0.5661 - val_accuracy: 0.8028\n",
            "Epoch 12/200\n",
            "80/80 [==============================] - 6s 74ms/step - loss: 0.3770 - accuracy: 0.8980 - val_loss: 0.3931 - val_accuracy: 0.8779\n",
            "Epoch 13/200\n",
            "80/80 [==============================] - 6s 75ms/step - loss: 0.3269 - accuracy: 0.9215 - val_loss: 0.3325 - val_accuracy: 0.9030\n",
            "Epoch 14/200\n",
            "80/80 [==============================] - 6s 74ms/step - loss: 0.2743 - accuracy: 0.9430 - val_loss: 0.3075 - val_accuracy: 0.9139\n",
            "Epoch 15/200\n",
            "80/80 [==============================] - 6s 74ms/step - loss: 0.2541 - accuracy: 0.9476 - val_loss: 0.3482 - val_accuracy: 0.8826\n",
            "Epoch 16/200\n",
            "80/80 [==============================] - 6s 75ms/step - loss: 0.2168 - accuracy: 0.9559 - val_loss: 0.2426 - val_accuracy: 0.9374\n",
            "Epoch 17/200\n",
            "80/80 [==============================] - 6s 75ms/step - loss: 0.1906 - accuracy: 0.9635 - val_loss: 0.2195 - val_accuracy: 0.9437\n",
            "Epoch 18/200\n",
            "80/80 [==============================] - 6s 75ms/step - loss: 0.1679 - accuracy: 0.9736 - val_loss: 0.2418 - val_accuracy: 0.9311\n",
            "Epoch 19/200\n",
            "80/80 [==============================] - 6s 75ms/step - loss: 0.1529 - accuracy: 0.9754 - val_loss: 0.3293 - val_accuracy: 0.8701\n",
            "Epoch 20/200\n",
            "80/80 [==============================] - 6s 75ms/step - loss: 0.1344 - accuracy: 0.9795 - val_loss: 0.2770 - val_accuracy: 0.9124\n",
            "Epoch 21/200\n",
            "80/80 [==============================] - 6s 75ms/step - loss: 0.1220 - accuracy: 0.9826 - val_loss: 0.1868 - val_accuracy: 0.9437\n",
            "Epoch 22/200\n",
            "80/80 [==============================] - 6s 75ms/step - loss: 0.1074 - accuracy: 0.9867 - val_loss: 0.1852 - val_accuracy: 0.9499\n",
            "Epoch 23/200\n",
            "80/80 [==============================] - 6s 75ms/step - loss: 0.1015 - accuracy: 0.9873 - val_loss: 0.1798 - val_accuracy: 0.9452\n",
            "Epoch 24/200\n",
            "80/80 [==============================] - 6s 74ms/step - loss: 0.0941 - accuracy: 0.9865 - val_loss: 0.1601 - val_accuracy: 0.9499\n",
            "Epoch 25/200\n",
            "80/80 [==============================] - 6s 75ms/step - loss: 0.0859 - accuracy: 0.9891 - val_loss: 0.1722 - val_accuracy: 0.9374\n",
            "Epoch 26/200\n",
            "80/80 [==============================] - 6s 74ms/step - loss: 0.0850 - accuracy: 0.9859 - val_loss: 0.1373 - val_accuracy: 0.9515\n",
            "Epoch 27/200\n",
            "80/80 [==============================] - 6s 75ms/step - loss: 0.0744 - accuracy: 0.9898 - val_loss: 0.1872 - val_accuracy: 0.9374\n",
            "Epoch 28/200\n",
            "80/80 [==============================] - 6s 75ms/step - loss: 0.0793 - accuracy: 0.9867 - val_loss: 0.1291 - val_accuracy: 0.9640\n",
            "Epoch 29/200\n",
            "80/80 [==============================] - 6s 75ms/step - loss: 0.0734 - accuracy: 0.9869 - val_loss: 0.1717 - val_accuracy: 0.9390\n",
            "Epoch 30/200\n",
            "80/80 [==============================] - 6s 74ms/step - loss: 0.0645 - accuracy: 0.9893 - val_loss: 0.1553 - val_accuracy: 0.9499\n",
            "Epoch 31/200\n",
            "80/80 [==============================] - 6s 75ms/step - loss: 0.0751 - accuracy: 0.9883 - val_loss: 0.1341 - val_accuracy: 0.9609\n",
            "Epoch 32/200\n",
            "80/80 [==============================] - 6s 75ms/step - loss: 0.0616 - accuracy: 0.9895 - val_loss: 0.1550 - val_accuracy: 0.9390\n",
            "Epoch 33/200\n",
            "80/80 [==============================] - 6s 75ms/step - loss: 0.0629 - accuracy: 0.9877 - val_loss: 0.1539 - val_accuracy: 0.9468\n",
            "Epoch 34/200\n",
            "80/80 [==============================] - 6s 75ms/step - loss: 0.0596 - accuracy: 0.9889 - val_loss: 0.1714 - val_accuracy: 0.9264\n",
            "Epoch 35/200\n",
            "80/80 [==============================] - 6s 75ms/step - loss: 0.0554 - accuracy: 0.9914 - val_loss: 0.2435 - val_accuracy: 0.9343\n",
            "Epoch 36/200\n",
            "80/80 [==============================] - 6s 74ms/step - loss: 0.0585 - accuracy: 0.9875 - val_loss: 0.2290 - val_accuracy: 0.9327\n",
            "Epoch 37/200\n",
            "80/80 [==============================] - 6s 74ms/step - loss: 0.0487 - accuracy: 0.9928 - val_loss: 0.2134 - val_accuracy: 0.9264\n",
            "Epoch 38/200\n",
            "80/80 [==============================] - 6s 75ms/step - loss: 0.0557 - accuracy: 0.9867 - val_loss: 0.1779 - val_accuracy: 0.9421\n",
            "Epoch 39/200\n",
            "80/80 [==============================] - 6s 75ms/step - loss: 0.0515 - accuracy: 0.9898 - val_loss: 0.2600 - val_accuracy: 0.9218\n",
            "Epoch 40/200\n",
            "80/80 [==============================] - 6s 75ms/step - loss: 0.0538 - accuracy: 0.9873 - val_loss: 0.1833 - val_accuracy: 0.9484\n",
            "Epoch 41/200\n",
            "80/80 [==============================] - 6s 75ms/step - loss: 0.0490 - accuracy: 0.9900 - val_loss: 0.1742 - val_accuracy: 0.9468\n",
            "Epoch 42/200\n",
            "80/80 [==============================] - 6s 75ms/step - loss: 0.0424 - accuracy: 0.9924 - val_loss: 0.3856 - val_accuracy: 0.8920\n",
            "Epoch 43/200\n",
            "80/80 [==============================] - 6s 75ms/step - loss: 0.0458 - accuracy: 0.9910 - val_loss: 0.1936 - val_accuracy: 0.9311\n",
            "Epoch 44/200\n",
            "80/80 [==============================] - 6s 75ms/step - loss: 0.0534 - accuracy: 0.9863 - val_loss: 0.2356 - val_accuracy: 0.9249\n",
            "Epoch 45/200\n",
            "80/80 [==============================] - 6s 75ms/step - loss: 0.0442 - accuracy: 0.9914 - val_loss: 0.1408 - val_accuracy: 0.9531\n",
            "Epoch 46/200\n",
            "80/80 [==============================] - 6s 75ms/step - loss: 0.0381 - accuracy: 0.9918 - val_loss: 0.1218 - val_accuracy: 0.9609\n",
            "Epoch 47/200\n",
            "80/80 [==============================] - 6s 74ms/step - loss: 0.0378 - accuracy: 0.9930 - val_loss: 0.1355 - val_accuracy: 0.9593\n",
            "Epoch 48/200\n",
            "80/80 [==============================] - 6s 74ms/step - loss: 0.0415 - accuracy: 0.9893 - val_loss: 0.2487 - val_accuracy: 0.9327\n",
            "Epoch 49/200\n",
            "80/80 [==============================] - 6s 75ms/step - loss: 0.0343 - accuracy: 0.9924 - val_loss: 0.1781 - val_accuracy: 0.9468\n",
            "Epoch 50/200\n",
            "80/80 [==============================] - 6s 75ms/step - loss: 0.0354 - accuracy: 0.9912 - val_loss: 0.1713 - val_accuracy: 0.9499\n",
            "Epoch 51/200\n",
            "80/80 [==============================] - 6s 75ms/step - loss: 0.0287 - accuracy: 0.9943 - val_loss: 0.2738 - val_accuracy: 0.9171\n",
            "Epoch 52/200\n",
            "80/80 [==============================] - 6s 75ms/step - loss: 0.0293 - accuracy: 0.9943 - val_loss: 0.2034 - val_accuracy: 0.9374\n",
            "Epoch 53/200\n",
            "80/80 [==============================] - 6s 74ms/step - loss: 0.0317 - accuracy: 0.9924 - val_loss: 0.1498 - val_accuracy: 0.9593\n",
            "Epoch 54/200\n",
            "80/80 [==============================] - 6s 75ms/step - loss: 0.0340 - accuracy: 0.9922 - val_loss: 0.1957 - val_accuracy: 0.9405\n",
            "Epoch 55/200\n",
            "80/80 [==============================] - 6s 75ms/step - loss: 0.0342 - accuracy: 0.9906 - val_loss: 0.1676 - val_accuracy: 0.9499\n",
            "Epoch 56/200\n",
            "80/80 [==============================] - 6s 75ms/step - loss: 0.0387 - accuracy: 0.9891 - val_loss: 0.3526 - val_accuracy: 0.9014\n",
            "Epoch 57/200\n",
            "80/80 [==============================] - 6s 75ms/step - loss: 0.0337 - accuracy: 0.9914 - val_loss: 0.2626 - val_accuracy: 0.9155\n",
            "Epoch 58/200\n",
            "80/80 [==============================] - 6s 75ms/step - loss: 0.0486 - accuracy: 0.9867 - val_loss: 0.2212 - val_accuracy: 0.9296\n",
            "Epoch 59/200\n",
            "80/80 [==============================] - 6s 75ms/step - loss: 0.0425 - accuracy: 0.9853 - val_loss: 0.2181 - val_accuracy: 0.9296\n",
            "Epoch 60/200\n",
            "80/80 [==============================] - 6s 75ms/step - loss: 0.0343 - accuracy: 0.9895 - val_loss: 0.2193 - val_accuracy: 0.9343\n",
            "Epoch 61/200\n",
            "80/80 [==============================] - 6s 75ms/step - loss: 0.0296 - accuracy: 0.9928 - val_loss: 0.1648 - val_accuracy: 0.9468\n",
            "Epoch 62/200\n",
            "80/80 [==============================] - 6s 75ms/step - loss: 0.0367 - accuracy: 0.9898 - val_loss: 0.2766 - val_accuracy: 0.9249\n",
            "Epoch 63/200\n",
            "80/80 [==============================] - 6s 75ms/step - loss: 0.0328 - accuracy: 0.9926 - val_loss: 0.3008 - val_accuracy: 0.9171\n",
            "Epoch 64/200\n",
            "80/80 [==============================] - 6s 75ms/step - loss: 0.0290 - accuracy: 0.9934 - val_loss: 0.1717 - val_accuracy: 0.9468\n",
            "Epoch 65/200\n",
            "80/80 [==============================] - 6s 75ms/step - loss: 0.0228 - accuracy: 0.9955 - val_loss: 0.2161 - val_accuracy: 0.9452\n",
            "Epoch 66/200\n",
            "80/80 [==============================] - 6s 76ms/step - loss: 0.0180 - accuracy: 0.9967 - val_loss: 0.1215 - val_accuracy: 0.9546\n",
            "Epoch 67/200\n",
            "80/80 [==============================] - 6s 75ms/step - loss: 0.0199 - accuracy: 0.9949 - val_loss: 0.1711 - val_accuracy: 0.9468\n",
            "Epoch 68/200\n",
            "80/80 [==============================] - 6s 74ms/step - loss: 0.0164 - accuracy: 0.9969 - val_loss: 0.2609 - val_accuracy: 0.9296\n",
            "Epoch 69/200\n",
            "80/80 [==============================] - 6s 75ms/step - loss: 0.0182 - accuracy: 0.9961 - val_loss: 0.2104 - val_accuracy: 0.9452\n",
            "Epoch 70/200\n",
            "80/80 [==============================] - 6s 76ms/step - loss: 0.0230 - accuracy: 0.9941 - val_loss: 0.1819 - val_accuracy: 0.9515\n",
            "Epoch 71/200\n",
            "80/80 [==============================] - 6s 76ms/step - loss: 0.0349 - accuracy: 0.9895 - val_loss: 0.3732 - val_accuracy: 0.8998\n",
            "Epoch 72/200\n",
            "80/80 [==============================] - 6s 75ms/step - loss: 0.0357 - accuracy: 0.9895 - val_loss: 0.1669 - val_accuracy: 0.9452\n",
            "Epoch 73/200\n",
            "80/80 [==============================] - 6s 74ms/step - loss: 0.0281 - accuracy: 0.9934 - val_loss: 0.2975 - val_accuracy: 0.9171\n",
            "Epoch 74/200\n",
            "80/80 [==============================] - 6s 75ms/step - loss: 0.0362 - accuracy: 0.9898 - val_loss: 0.3194 - val_accuracy: 0.9092\n",
            "Epoch 75/200\n",
            "80/80 [==============================] - 6s 74ms/step - loss: 0.0261 - accuracy: 0.9918 - val_loss: 0.2639 - val_accuracy: 0.9327\n",
            "Epoch 76/200\n",
            "80/80 [==============================] - 6s 75ms/step - loss: 0.0234 - accuracy: 0.9932 - val_loss: 0.1594 - val_accuracy: 0.9499\n",
            "Epoch 77/200\n",
            "80/80 [==============================] - 6s 75ms/step - loss: 0.0238 - accuracy: 0.9928 - val_loss: 0.2193 - val_accuracy: 0.9437\n",
            "Epoch 78/200\n",
            "80/80 [==============================] - 6s 76ms/step - loss: 0.0169 - accuracy: 0.9957 - val_loss: 0.1549 - val_accuracy: 0.9562\n",
            "Epoch 79/200\n",
            "80/80 [==============================] - 6s 75ms/step - loss: 0.0155 - accuracy: 0.9973 - val_loss: 0.1238 - val_accuracy: 0.9734\n",
            "Epoch 80/200\n",
            "80/80 [==============================] - 6s 75ms/step - loss: 0.0363 - accuracy: 0.9896 - val_loss: 0.2331 - val_accuracy: 0.9390\n",
            "Epoch 81/200\n",
            "80/80 [==============================] - 6s 75ms/step - loss: 0.0211 - accuracy: 0.9947 - val_loss: 0.2838 - val_accuracy: 0.9264\n",
            "Epoch 82/200\n",
            "80/80 [==============================] - 6s 76ms/step - loss: 0.0152 - accuracy: 0.9965 - val_loss: 0.1430 - val_accuracy: 0.9687\n",
            "Epoch 83/200\n",
            "80/80 [==============================] - 6s 75ms/step - loss: 0.0216 - accuracy: 0.9926 - val_loss: 0.2026 - val_accuracy: 0.9468\n",
            "Epoch 84/200\n",
            "80/80 [==============================] - 6s 75ms/step - loss: 0.0195 - accuracy: 0.9955 - val_loss: 0.1774 - val_accuracy: 0.9437\n",
            "Epoch 85/200\n",
            "80/80 [==============================] - 6s 75ms/step - loss: 0.0197 - accuracy: 0.9943 - val_loss: 0.2172 - val_accuracy: 0.9484\n",
            "Epoch 86/200\n",
            "80/80 [==============================] - 6s 74ms/step - loss: 0.0140 - accuracy: 0.9961 - val_loss: 0.1491 - val_accuracy: 0.9562\n",
            "Epoch 87/200\n",
            "80/80 [==============================] - 6s 74ms/step - loss: 0.0179 - accuracy: 0.9949 - val_loss: 0.2160 - val_accuracy: 0.9421\n",
            "Epoch 88/200\n",
            "80/80 [==============================] - 6s 76ms/step - loss: 0.0244 - accuracy: 0.9932 - val_loss: 0.2246 - val_accuracy: 0.9374\n",
            "Epoch 89/200\n",
            "80/80 [==============================] - 6s 74ms/step - loss: 0.0214 - accuracy: 0.9939 - val_loss: 0.1911 - val_accuracy: 0.9468\n",
            "Epoch 90/200\n",
            "80/80 [==============================] - 6s 75ms/step - loss: 0.0217 - accuracy: 0.9939 - val_loss: 0.1489 - val_accuracy: 0.9640\n",
            "Epoch 91/200\n",
            "80/80 [==============================] - 6s 74ms/step - loss: 0.0262 - accuracy: 0.9928 - val_loss: 0.1904 - val_accuracy: 0.9531\n",
            "Epoch 92/200\n",
            "80/80 [==============================] - 6s 75ms/step - loss: 0.0179 - accuracy: 0.9955 - val_loss: 0.2224 - val_accuracy: 0.9468\n",
            "Epoch 93/200\n",
            "80/80 [==============================] - 6s 75ms/step - loss: 0.0122 - accuracy: 0.9971 - val_loss: 0.1941 - val_accuracy: 0.9484\n",
            "Epoch 94/200\n",
            "80/80 [==============================] - 6s 75ms/step - loss: 0.0163 - accuracy: 0.9955 - val_loss: 0.1473 - val_accuracy: 0.9562\n",
            "Epoch 95/200\n",
            "80/80 [==============================] - 6s 75ms/step - loss: 0.0241 - accuracy: 0.9932 - val_loss: 0.1646 - val_accuracy: 0.9624\n",
            "Epoch 96/200\n",
            "80/80 [==============================] - 6s 74ms/step - loss: 0.0173 - accuracy: 0.9949 - val_loss: 0.1701 - val_accuracy: 0.9484\n",
            "Epoch 97/200\n",
            "80/80 [==============================] - 6s 74ms/step - loss: 0.0235 - accuracy: 0.9947 - val_loss: 0.2651 - val_accuracy: 0.9358\n",
            "Epoch 98/200\n",
            "80/80 [==============================] - 6s 75ms/step - loss: 0.0186 - accuracy: 0.9945 - val_loss: 0.2298 - val_accuracy: 0.9499\n",
            "Epoch 99/200\n",
            "80/80 [==============================] - 6s 75ms/step - loss: 0.0129 - accuracy: 0.9967 - val_loss: 0.2431 - val_accuracy: 0.9452\n",
            "Epoch 100/200\n",
            "80/80 [==============================] - 6s 75ms/step - loss: 0.0141 - accuracy: 0.9955 - val_loss: 0.2191 - val_accuracy: 0.9358\n",
            "Epoch 101/200\n",
            "80/80 [==============================] - 6s 75ms/step - loss: 0.0203 - accuracy: 0.9943 - val_loss: 0.1278 - val_accuracy: 0.9577\n",
            "Epoch 102/200\n",
            "80/80 [==============================] - 6s 75ms/step - loss: 0.0259 - accuracy: 0.9916 - val_loss: 0.2200 - val_accuracy: 0.9499\n",
            "Epoch 103/200\n",
            "80/80 [==============================] - 6s 75ms/step - loss: 0.0320 - accuracy: 0.9918 - val_loss: 0.5014 - val_accuracy: 0.8858\n",
            "Epoch 104/200\n",
            "80/80 [==============================] - 6s 76ms/step - loss: 0.0254 - accuracy: 0.9932 - val_loss: 0.2136 - val_accuracy: 0.9405\n",
            "Epoch 105/200\n",
            "80/80 [==============================] - 6s 75ms/step - loss: 0.0194 - accuracy: 0.9939 - val_loss: 0.2800 - val_accuracy: 0.9233\n",
            "Epoch 106/200\n",
            "80/80 [==============================] - 6s 76ms/step - loss: 0.0153 - accuracy: 0.9953 - val_loss: 0.1889 - val_accuracy: 0.9499\n",
            "Epoch 107/200\n",
            "80/80 [==============================] - 6s 75ms/step - loss: 0.0201 - accuracy: 0.9934 - val_loss: 0.4820 - val_accuracy: 0.8983\n",
            "Epoch 108/200\n",
            "80/80 [==============================] - 6s 75ms/step - loss: 0.0132 - accuracy: 0.9963 - val_loss: 0.1659 - val_accuracy: 0.9593\n",
            "Epoch 109/200\n",
            "80/80 [==============================] - 6s 76ms/step - loss: 0.0186 - accuracy: 0.9947 - val_loss: 0.1548 - val_accuracy: 0.9593\n",
            "Epoch 110/200\n",
            "80/80 [==============================] - 6s 76ms/step - loss: 0.0190 - accuracy: 0.9953 - val_loss: 0.5843 - val_accuracy: 0.8670\n",
            "Epoch 111/200\n",
            "80/80 [==============================] - 6s 75ms/step - loss: 0.0250 - accuracy: 0.9947 - val_loss: 0.2596 - val_accuracy: 0.9405\n",
            "Epoch 112/200\n",
            "80/80 [==============================] - 6s 76ms/step - loss: 0.0165 - accuracy: 0.9941 - val_loss: 0.2024 - val_accuracy: 0.9515\n",
            "Epoch 113/200\n",
            "80/80 [==============================] - 6s 76ms/step - loss: 0.0195 - accuracy: 0.9941 - val_loss: 0.2607 - val_accuracy: 0.9358\n",
            "Epoch 114/200\n",
            "80/80 [==============================] - 6s 75ms/step - loss: 0.0148 - accuracy: 0.9959 - val_loss: 0.2179 - val_accuracy: 0.9484\n",
            "Epoch 115/200\n",
            "80/80 [==============================] - 6s 75ms/step - loss: 0.0131 - accuracy: 0.9965 - val_loss: 0.1422 - val_accuracy: 0.9624\n",
            "Epoch 116/200\n",
            "80/80 [==============================] - 6s 76ms/step - loss: 0.0148 - accuracy: 0.9957 - val_loss: 0.1698 - val_accuracy: 0.9609\n",
            "Epoch 117/200\n",
            "80/80 [==============================] - 6s 75ms/step - loss: 0.0179 - accuracy: 0.9957 - val_loss: 0.1363 - val_accuracy: 0.9703\n",
            "Epoch 118/200\n",
            "80/80 [==============================] - 6s 76ms/step - loss: 0.0110 - accuracy: 0.9973 - val_loss: 0.1881 - val_accuracy: 0.9531\n",
            "Epoch 119/200\n",
            "80/80 [==============================] - 6s 76ms/step - loss: 0.0093 - accuracy: 0.9984 - val_loss: 0.1265 - val_accuracy: 0.9624\n",
            "Epoch 120/200\n",
            "80/80 [==============================] - 6s 75ms/step - loss: 0.0190 - accuracy: 0.9943 - val_loss: 0.1332 - val_accuracy: 0.9671\n",
            "Epoch 121/200\n",
            "80/80 [==============================] - 6s 76ms/step - loss: 0.0115 - accuracy: 0.9975 - val_loss: 0.1485 - val_accuracy: 0.9624\n",
            "Epoch 122/200\n",
            "80/80 [==============================] - 6s 75ms/step - loss: 0.0206 - accuracy: 0.9941 - val_loss: 0.2522 - val_accuracy: 0.9499\n",
            "Epoch 123/200\n",
            "80/80 [==============================] - 6s 75ms/step - loss: 0.0181 - accuracy: 0.9943 - val_loss: 0.2646 - val_accuracy: 0.9358\n",
            "Epoch 124/200\n",
            "80/80 [==============================] - 6s 75ms/step - loss: 0.0129 - accuracy: 0.9961 - val_loss: 0.2024 - val_accuracy: 0.9546\n",
            "Epoch 125/200\n",
            "80/80 [==============================] - 6s 75ms/step - loss: 0.0165 - accuracy: 0.9957 - val_loss: 0.1738 - val_accuracy: 0.9624\n",
            "Epoch 126/200\n",
            "80/80 [==============================] - 6s 75ms/step - loss: 0.0093 - accuracy: 0.9977 - val_loss: 0.2303 - val_accuracy: 0.9421\n",
            "Epoch 127/200\n",
            "80/80 [==============================] - 6s 75ms/step - loss: 0.0120 - accuracy: 0.9971 - val_loss: 0.1760 - val_accuracy: 0.9624\n",
            "Epoch 128/200\n",
            "80/80 [==============================] - 6s 75ms/step - loss: 0.0072 - accuracy: 0.9982 - val_loss: 0.1401 - val_accuracy: 0.9703\n",
            "Epoch 129/200\n",
            "80/80 [==============================] - 6s 75ms/step - loss: 0.0149 - accuracy: 0.9945 - val_loss: 0.2413 - val_accuracy: 0.9452\n",
            "Epoch 130/200\n",
            "80/80 [==============================] - 6s 75ms/step - loss: 0.0129 - accuracy: 0.9959 - val_loss: 0.1822 - val_accuracy: 0.9546\n",
            "Epoch 131/200\n",
            "80/80 [==============================] - 6s 76ms/step - loss: 0.0155 - accuracy: 0.9963 - val_loss: 0.3146 - val_accuracy: 0.9405\n",
            "Epoch 132/200\n",
            "80/80 [==============================] - 6s 77ms/step - loss: 0.0150 - accuracy: 0.9955 - val_loss: 0.2385 - val_accuracy: 0.9437\n",
            "Epoch 133/200\n",
            "80/80 [==============================] - 6s 76ms/step - loss: 0.0116 - accuracy: 0.9967 - val_loss: 0.2026 - val_accuracy: 0.9484\n",
            "Epoch 134/200\n",
            "80/80 [==============================] - 6s 77ms/step - loss: 0.0089 - accuracy: 0.9980 - val_loss: 0.2325 - val_accuracy: 0.9484\n",
            "Epoch 135/200\n",
            "80/80 [==============================] - 6s 78ms/step - loss: 0.0117 - accuracy: 0.9969 - val_loss: 0.1828 - val_accuracy: 0.9577\n",
            "Epoch 136/200\n",
            "80/80 [==============================] - 6s 76ms/step - loss: 0.0103 - accuracy: 0.9971 - val_loss: 0.4030 - val_accuracy: 0.9155\n",
            "Epoch 137/200\n",
            "80/80 [==============================] - 6s 77ms/step - loss: 0.0114 - accuracy: 0.9967 - val_loss: 0.2100 - val_accuracy: 0.9421\n",
            "Epoch 138/200\n",
            "80/80 [==============================] - 6s 77ms/step - loss: 0.0194 - accuracy: 0.9926 - val_loss: 0.2731 - val_accuracy: 0.9202\n",
            "Epoch 139/200\n",
            "80/80 [==============================] - 6s 78ms/step - loss: 0.0171 - accuracy: 0.9951 - val_loss: 0.1649 - val_accuracy: 0.9593\n",
            "Epoch 140/200\n",
            "80/80 [==============================] - 6s 77ms/step - loss: 0.0165 - accuracy: 0.9943 - val_loss: 0.1806 - val_accuracy: 0.9468\n",
            "Epoch 141/200\n",
            "80/80 [==============================] - 6s 77ms/step - loss: 0.0111 - accuracy: 0.9961 - val_loss: 0.2458 - val_accuracy: 0.9358\n",
            "Epoch 142/200\n",
            "80/80 [==============================] - 6s 77ms/step - loss: 0.0091 - accuracy: 0.9988 - val_loss: 0.1274 - val_accuracy: 0.9624\n",
            "Epoch 143/200\n",
            "80/80 [==============================] - 6s 77ms/step - loss: 0.0045 - accuracy: 0.9990 - val_loss: 0.1420 - val_accuracy: 0.9671\n",
            "Epoch 144/200\n",
            "80/80 [==============================] - 6s 76ms/step - loss: 0.0122 - accuracy: 0.9963 - val_loss: 0.1745 - val_accuracy: 0.9624\n",
            "Epoch 145/200\n",
            "80/80 [==============================] - 6s 76ms/step - loss: 0.0123 - accuracy: 0.9967 - val_loss: 0.3315 - val_accuracy: 0.9249\n",
            "Epoch 146/200\n",
            "80/80 [==============================] - 6s 76ms/step - loss: 0.0127 - accuracy: 0.9961 - val_loss: 0.2157 - val_accuracy: 0.9499\n",
            "Epoch 147/200\n",
            "80/80 [==============================] - 6s 76ms/step - loss: 0.0084 - accuracy: 0.9973 - val_loss: 0.1648 - val_accuracy: 0.9593\n",
            "Epoch 148/200\n",
            "80/80 [==============================] - 6s 75ms/step - loss: 0.0154 - accuracy: 0.9953 - val_loss: 0.3122 - val_accuracy: 0.9343\n",
            "Epoch 149/200\n",
            "80/80 [==============================] - 6s 76ms/step - loss: 0.0142 - accuracy: 0.9957 - val_loss: 0.1636 - val_accuracy: 0.9577\n",
            "Epoch 150/200\n",
            "80/80 [==============================] - 6s 76ms/step - loss: 0.0224 - accuracy: 0.9949 - val_loss: 0.2206 - val_accuracy: 0.9437\n",
            "Epoch 151/200\n",
            "80/80 [==============================] - 6s 76ms/step - loss: 0.0197 - accuracy: 0.9945 - val_loss: 0.1691 - val_accuracy: 0.9609\n",
            "Epoch 152/200\n",
            "80/80 [==============================] - 6s 77ms/step - loss: 0.0228 - accuracy: 0.9932 - val_loss: 0.1896 - val_accuracy: 0.9484\n",
            "Epoch 153/200\n",
            "80/80 [==============================] - 6s 77ms/step - loss: 0.0167 - accuracy: 0.9955 - val_loss: 0.4984 - val_accuracy: 0.8967\n",
            "Epoch 154/200\n",
            "80/80 [==============================] - 6s 77ms/step - loss: 0.0182 - accuracy: 0.9959 - val_loss: 0.0958 - val_accuracy: 0.9718\n",
            "Epoch 155/200\n",
            "80/80 [==============================] - 6s 76ms/step - loss: 0.0097 - accuracy: 0.9973 - val_loss: 0.1145 - val_accuracy: 0.9656\n",
            "Epoch 156/200\n",
            "80/80 [==============================] - 6s 76ms/step - loss: 0.0144 - accuracy: 0.9957 - val_loss: 0.1839 - val_accuracy: 0.9531\n",
            "Epoch 157/200\n",
            "80/80 [==============================] - 6s 75ms/step - loss: 0.0158 - accuracy: 0.9961 - val_loss: 0.1982 - val_accuracy: 0.9499\n",
            "Epoch 158/200\n",
            "80/80 [==============================] - 6s 75ms/step - loss: 0.0133 - accuracy: 0.9971 - val_loss: 0.1691 - val_accuracy: 0.9531\n",
            "Epoch 159/200\n",
            "80/80 [==============================] - 6s 76ms/step - loss: 0.0116 - accuracy: 0.9973 - val_loss: 0.3367 - val_accuracy: 0.9249\n",
            "Epoch 160/200\n",
            "80/80 [==============================] - 6s 77ms/step - loss: 0.0164 - accuracy: 0.9955 - val_loss: 0.2285 - val_accuracy: 0.9468\n",
            "Epoch 161/200\n",
            "80/80 [==============================] - 6s 76ms/step - loss: 0.0168 - accuracy: 0.9951 - val_loss: 0.1582 - val_accuracy: 0.9656\n",
            "Epoch 162/200\n",
            "80/80 [==============================] - 6s 76ms/step - loss: 0.0098 - accuracy: 0.9971 - val_loss: 0.1749 - val_accuracy: 0.9609\n",
            "Epoch 163/200\n",
            "80/80 [==============================] - 6s 75ms/step - loss: 0.0095 - accuracy: 0.9969 - val_loss: 0.1289 - val_accuracy: 0.9687\n",
            "Epoch 164/200\n",
            "80/80 [==============================] - 6s 76ms/step - loss: 0.0113 - accuracy: 0.9971 - val_loss: 0.1438 - val_accuracy: 0.9703\n",
            "Epoch 165/200\n",
            "80/80 [==============================] - 6s 76ms/step - loss: 0.0097 - accuracy: 0.9977 - val_loss: 0.1841 - val_accuracy: 0.9562\n",
            "Epoch 166/200\n",
            "80/80 [==============================] - 6s 76ms/step - loss: 0.0099 - accuracy: 0.9977 - val_loss: 0.1848 - val_accuracy: 0.9499\n",
            "Epoch 167/200\n",
            "80/80 [==============================] - 6s 76ms/step - loss: 0.0091 - accuracy: 0.9977 - val_loss: 0.1351 - val_accuracy: 0.9656\n",
            "Epoch 168/200\n",
            "80/80 [==============================] - 6s 76ms/step - loss: 0.0084 - accuracy: 0.9977 - val_loss: 0.2256 - val_accuracy: 0.9577\n",
            "Epoch 169/200\n",
            "80/80 [==============================] - 6s 75ms/step - loss: 0.0111 - accuracy: 0.9977 - val_loss: 0.1318 - val_accuracy: 0.9703\n",
            "Epoch 170/200\n",
            "80/80 [==============================] - 6s 76ms/step - loss: 0.0069 - accuracy: 0.9986 - val_loss: 0.1569 - val_accuracy: 0.9656\n",
            "Epoch 171/200\n",
            "80/80 [==============================] - 6s 76ms/step - loss: 0.0080 - accuracy: 0.9977 - val_loss: 0.1600 - val_accuracy: 0.9640\n",
            "Epoch 172/200\n",
            "80/80 [==============================] - 6s 76ms/step - loss: 0.0127 - accuracy: 0.9961 - val_loss: 0.3380 - val_accuracy: 0.9186\n",
            "Epoch 173/200\n",
            "80/80 [==============================] - 6s 76ms/step - loss: 0.0118 - accuracy: 0.9963 - val_loss: 0.1429 - val_accuracy: 0.9656\n",
            "Epoch 174/200\n",
            "80/80 [==============================] - 6s 76ms/step - loss: 0.0087 - accuracy: 0.9979 - val_loss: 0.1612 - val_accuracy: 0.9624\n",
            "Epoch 175/200\n",
            "80/80 [==============================] - 6s 77ms/step - loss: 0.0104 - accuracy: 0.9967 - val_loss: 0.2480 - val_accuracy: 0.9405\n",
            "Epoch 176/200\n",
            "80/80 [==============================] - 6s 76ms/step - loss: 0.0065 - accuracy: 0.9975 - val_loss: 0.1640 - val_accuracy: 0.9577\n",
            "Epoch 177/200\n",
            "80/80 [==============================] - 6s 76ms/step - loss: 0.0192 - accuracy: 0.9955 - val_loss: 0.2904 - val_accuracy: 0.9405\n",
            "Epoch 178/200\n",
            "80/80 [==============================] - 6s 77ms/step - loss: 0.0146 - accuracy: 0.9969 - val_loss: 0.1950 - val_accuracy: 0.9562\n",
            "Epoch 179/200\n",
            "80/80 [==============================] - 6s 77ms/step - loss: 0.0111 - accuracy: 0.9969 - val_loss: 0.1670 - val_accuracy: 0.9687\n",
            "Epoch 180/200\n",
            "80/80 [==============================] - 6s 76ms/step - loss: 0.0056 - accuracy: 0.9986 - val_loss: 0.1050 - val_accuracy: 0.9656\n",
            "Epoch 181/200\n",
            "80/80 [==============================] - 6s 77ms/step - loss: 0.0065 - accuracy: 0.9988 - val_loss: 0.1872 - val_accuracy: 0.9656\n",
            "Epoch 182/200\n",
            "80/80 [==============================] - 6s 77ms/step - loss: 0.0174 - accuracy: 0.9957 - val_loss: 0.1662 - val_accuracy: 0.9577\n",
            "Epoch 183/200\n",
            "80/80 [==============================] - 6s 77ms/step - loss: 0.0060 - accuracy: 0.9986 - val_loss: 0.1505 - val_accuracy: 0.9609\n",
            "Epoch 184/200\n",
            "80/80 [==============================] - 6s 76ms/step - loss: 0.0091 - accuracy: 0.9979 - val_loss: 0.2686 - val_accuracy: 0.9437\n",
            "Epoch 185/200\n",
            "80/80 [==============================] - 6s 76ms/step - loss: 0.0126 - accuracy: 0.9965 - val_loss: 0.2022 - val_accuracy: 0.9531\n",
            "Epoch 186/200\n",
            "80/80 [==============================] - 6s 75ms/step - loss: 0.0112 - accuracy: 0.9965 - val_loss: 0.2438 - val_accuracy: 0.9499\n",
            "Epoch 187/200\n",
            "80/80 [==============================] - 6s 75ms/step - loss: 0.0211 - accuracy: 0.9941 - val_loss: 0.3470 - val_accuracy: 0.9327\n",
            "Epoch 188/200\n",
            "80/80 [==============================] - 6s 76ms/step - loss: 0.0078 - accuracy: 0.9977 - val_loss: 0.1915 - val_accuracy: 0.9577\n",
            "Epoch 189/200\n",
            "80/80 [==============================] - 6s 76ms/step - loss: 0.0125 - accuracy: 0.9961 - val_loss: 0.2444 - val_accuracy: 0.9437\n",
            "Epoch 190/200\n",
            "80/80 [==============================] - 6s 77ms/step - loss: 0.0070 - accuracy: 0.9984 - val_loss: 0.2240 - val_accuracy: 0.9515\n",
            "Epoch 191/200\n",
            "80/80 [==============================] - 6s 76ms/step - loss: 0.0057 - accuracy: 0.9986 - val_loss: 0.1405 - val_accuracy: 0.9687\n",
            "Epoch 192/200\n",
            "80/80 [==============================] - 6s 77ms/step - loss: 0.0062 - accuracy: 0.9990 - val_loss: 0.1666 - val_accuracy: 0.9624\n",
            "Epoch 193/200\n",
            "80/80 [==============================] - 6s 76ms/step - loss: 0.0041 - accuracy: 0.9986 - val_loss: 0.1589 - val_accuracy: 0.9671\n",
            "Epoch 194/200\n",
            "80/80 [==============================] - 6s 76ms/step - loss: 0.0041 - accuracy: 0.9990 - val_loss: 0.1776 - val_accuracy: 0.9531\n",
            "Epoch 195/200\n",
            "80/80 [==============================] - 6s 77ms/step - loss: 0.0081 - accuracy: 0.9975 - val_loss: 0.2151 - val_accuracy: 0.9484\n",
            "Epoch 196/200\n",
            "80/80 [==============================] - 6s 77ms/step - loss: 0.0095 - accuracy: 0.9965 - val_loss: 0.1779 - val_accuracy: 0.9531\n",
            "Epoch 197/200\n",
            "80/80 [==============================] - 6s 76ms/step - loss: 0.0161 - accuracy: 0.9953 - val_loss: 0.2496 - val_accuracy: 0.9390\n",
            "Epoch 198/200\n",
            "80/80 [==============================] - 6s 77ms/step - loss: 0.0139 - accuracy: 0.9963 - val_loss: 0.2415 - val_accuracy: 0.9452\n",
            "Epoch 199/200\n",
            "80/80 [==============================] - 6s 76ms/step - loss: 0.0136 - accuracy: 0.9949 - val_loss: 0.3221 - val_accuracy: 0.9405\n",
            "Epoch 200/200\n",
            "80/80 [==============================] - 6s 76ms/step - loss: 0.0093 - accuracy: 0.9967 - val_loss: 0.1825 - val_accuracy: 0.9577\n"
          ]
        }
      ]
    },
    {
      "cell_type": "code",
      "source": [
        "scores = model.evaluate(x_test,y_test , verbose=1)"
      ],
      "metadata": {
        "colab": {
          "base_uri": "https://localhost:8080/"
        },
        "id": "z-4SC1gLCpf6",
        "outputId": "d109a300-1196-4302-b8f0-97252d1318b5"
      },
      "execution_count": null,
      "outputs": [
        {
          "output_type": "stream",
          "name": "stdout",
          "text": [
            "21/21 [==============================] - 1s 47ms/step - loss: 0.1523 - accuracy: 0.9642\n"
          ]
        }
      ]
    },
    {
      "cell_type": "code",
      "source": [
        "accuracy= scores[1]*100\n",
        "loss=scores[0]\n",
        "print('Accuracy: ', accuracy)\n",
        "print('Loss: ',  loss)"
      ],
      "metadata": {
        "colab": {
          "base_uri": "https://localhost:8080/"
        },
        "id": "NBw2QJADC9P0",
        "outputId": "d1af0551-e8aa-4bcf-e201-dee841c23e41"
      },
      "execution_count": null,
      "outputs": [
        {
          "output_type": "stream",
          "name": "stdout",
          "text": [
            "Accuracy:  96.41744494438171\n",
            "Loss:  0.1523347944021225\n"
          ]
        }
      ]
    },
    {
      "cell_type": "code",
      "source": [
        "acc = history.history['accuracy']\n",
        "val_acc = history.history['val_accuracy']\n",
        "loss = history.history['loss']\n",
        "val_loss = history.history['val_loss']\n",
        "\n",
        "epochs_range = range(200)\n",
        "\n",
        "plt.figure(figsize=(15, 15))\n",
        "plt.subplot(2, 2, 1)\n",
        "plt.plot(epochs_range, acc, label='Training Accuracy')\n",
        "plt.plot(epochs_range, val_acc, label='Validation Accuracy')\n",
        "plt.legend(loc='lower right')\n",
        "plt.xlabel('Epochs')\n",
        "plt.ylabel('Accuracy')\n",
        "plt.grid(False)\n",
        "plt.title('Training and Validation Accuracy')\n",
        "\n",
        "epochs_range = range(200)\n",
        "\n",
        "plt.figure(figsize=(15, 15))\n",
        "plt.subplot(2, 2, 1)\n",
        "\n",
        "plt.plot(epochs_range, loss, label='Training Loss')\n",
        "plt.plot(epochs_range, val_loss, label='Validation Loss')\n",
        "plt.legend(loc='upper right')\n",
        "plt.title('Training and Validation Loss')\n",
        "plt.xlabel('Epochs')\n",
        "plt.ylabel('Loss')\n",
        "plt.grid(False)\n",
        "plt.show()"
      ],
      "metadata": {
        "colab": {
          "base_uri": "https://localhost:8080/",
          "height": 881
        },
        "id": "hVBP-jcMDIRh",
        "outputId": "701c5973-202e-4d29-9a7b-a48f43b10f44"
      },
      "execution_count": null,
      "outputs": [
        {
          "output_type": "display_data",
          "data": {
            "image/png": "[encoded data removed]",
            "text/plain": [
              "<Figure size 1080x1080 with 1 Axes>"
            ]
          },
          "metadata": {
            "needs_background": "light"
          }
        },
        {
          "output_type": "display_data",
          "data": {
            "image/png": "[encoded data removed]",
            "text/plain": [
              "<Figure size 1080x1080 with 1 Axes>"
            ]
          },
          "metadata": {
            "needs_background": "light"
          }
        }
      ]
    },
    {
      "cell_type": "code",
      "source": [
        "model.save(\"modelMobileV2.h5\")"
      ],
      "metadata": {
        "id": "PV0u1mlA5xdy"
      },
      "execution_count": null,
      "outputs": []
    },
    {
      "cell_type": "code",
      "source": [
        "model=tf.keras.models.load_model('modelMobileV2.h5')"
      ],
      "metadata": {
        "id": "t1pgYje95jmz"
      },
      "execution_count": null,
      "outputs": []
    }
  ]
}